{
 "cells": [
  {
   "cell_type": "markdown",
   "id": "b4e2fbea",
   "metadata": {},
   "source": [
    "# Bed-1304 Python-lab \n",
    "\n",
    "<script async defer src=\"https://buttons.github.io/buttons.js\"></script>\n",
    "\n",
    "## Forelesningsnotater\n",
    "\n",
    "Nettboken er strukturert ved hjelp av forelesingsnotatene. Kapittelene her vil være veldig like forelesingsnotatene som blir gått igjennom i løpet av timene. \n",
    "\n",
    "\n",
    "Alt i boken kan leses på nettet. Men for å få praktisk erfaring med koding så må du laste ned og installere Python, og helst Visual Studio Code.\n",
    "\n",
    "**På toppen av hvert kapittel er det en nedlastningsknapp hvor du velger \".ipynb\" for å åpne de i Visual Studio Code.**\n",
    "\n",
    "\n",
    "\n",
    "## **Nedlastning av Python og Visual Studio Code**\n",
    "\n",
    "**Ikke vær redd for å kontakte seminarlederne hvis dere har spørsmål eller trenger hjelp!**\n",
    "\n",
    "### Seminarledere\n",
    "\n",
    "- Daniel Nikolai Johannessen - <djo060@uit.no>\n",
    "- Daniel Fabio Groth - <dgr012@uit.no>\n",
    "- Erling Mikkola - <ermik7127@uit.no>\n",
    "\n",
    "## 1. Installere Python \n",
    "\n",
    "### **Windows:**\n",
    "\n",
    "På noen systemer er det tilstrekkelig at du skriver `python` i kommandovinduet. Om ikke det fungerer, gjør slik:\n",
    "\n",
    "1. Gå til [installasjonssiden](https://www.python.org/downloads/) og last ned\n",
    "4. Installer for alle brukere (krever admin login) og **hak av for å legge til \"PATH\"**. \n",
    "\n",
    "Hvis det ikke er en boks for \"Add Python to PATH\", så kan du prøve å lukke installasjonen og heller høyreklikke på filen og \"Kjør som administrator\"\n",
    "\n",
    "### **Mac:**\n",
    "\n",
    "Gå til [https://www.python.org/downloads/](https://www.python.org/downloads/).\n",
    "\n",
    "Last ned nyeste versjon til MacOS.\n",
    "\n",
    "### Tips:\n",
    "Last ned nyeste versjon av Python til PC/Mac'en deres.\n",
    "\n",
    "## 2. Installere Visual Studio Code\n",
    "I dette kurset skal vi jobbe med Jupyter Notebooks, og da er [Visual Studio Code](https://code.visualstudio.com/) et glimrende verktøy.\n",
    "\n",
    "Denne kan også være lurt å kjøre som administrator siden denne også kan be om \"add to path\". \n",
    "\n",
    "Dere finner nedlastning for både Mac og Windows på nettsiden [her](https://code.visualstudio.com/)!\n",
    "\n",
    "## 3. Åpne Visual Studio Code\n",
    "Visual Studio Code, forkortes ofte bare til VSCode.\n",
    "\n",
    "Når dere har lastet ned programmet, gjør følgende:\n",
    "- Åpne programmet og finn **Extensions** på venstresiden av applikasjonen.\n",
    "- Her skal dere finne **Jupyter** og trykk \"*Install*\". \n",
    "- Deretter finner dere **Python** (også i **Extensions**) og trykker \"*Install*\". \n",
    "\n",
    "## ```pip``` - og hvorfor det er viktig!\n",
    "I dette kurset vil vi bruke kommandoen ```!pip install XXX``` hvor ```XXX``` er et bibliotek. Bibliotek brukes mye i Python, og kan sees på som pakker man henter ut, for å gjøre spesifikke kommandoer.\n",
    "\n",
    "For å kunne kjøre ```!pip install``` trenger dere å laste ned ```!pip``` på PC/Mac'en deres.\n",
    "\n",
    "Ved å laste ned introduksjonsforelesningen så ligger koden allerede inne, eller så kan du lage en ny jupyter notatblokk og kopiere inn koden i de neste kodeblokkene under her"
   ]
  },
  {
   "cell_type": "code",
   "execution_count": null,
   "id": "255f2ae7",
   "metadata": {},
   "outputs": [],
   "source": [
    "import sys\n",
    "!{sys.executable} -m ensurepip --upgrade\n",
    "%pip install --upgrade pip\n",
    "%pip install numpy"
   ]
  },
  {
   "cell_type": "markdown",
   "id": "c527eb6e",
   "metadata": {},
   "source": [
    "Ved feilmelding så kan kodeblokkene under prøves men da må # tegnene fjernes for at de skal kjøres"
   ]
  },
  {
   "cell_type": "code",
   "execution_count": null,
   "id": "d3b40c07",
   "metadata": {},
   "outputs": [],
   "source": [
    "#!python -m ensurepip --upgrade"
   ]
  },
  {
   "cell_type": "code",
   "execution_count": null,
   "id": "167d9a0a",
   "metadata": {},
   "outputs": [],
   "source": [
    "#!python3 -m ensurepip --upgrade"
   ]
  },
  {
   "cell_type": "markdown",
   "id": "794bdcc8",
   "metadata": {},
   "source": [
    "Dette kan også prøves"
   ]
  },
  {
   "cell_type": "code",
   "execution_count": null,
   "id": "a98b70a9",
   "metadata": {},
   "outputs": [],
   "source": [
    "# !curl https://bootstrap.pypa.io/get-pip.py -o get-pip.py\n",
    "# !python get-pip.py"
   ]
  },
  {
   "cell_type": "markdown",
   "id": "83eea4f5",
   "metadata": {},
   "source": [
    "### Dersom det ikke kom noe tydelig feilmelding så kan du prøve koden under. "
   ]
  },
  {
   "cell_type": "code",
   "execution_count": null,
   "id": "5b510644",
   "metadata": {},
   "outputs": [],
   "source": [
    "%pip install numpy"
   ]
  },
  {
   "cell_type": "code",
   "execution_count": null,
   "id": "35d1b251",
   "metadata": {},
   "outputs": [],
   "source": [
    "#Evt denne dersom %pip ikke funker\n",
    "#!pip install numpy"
   ]
  },
  {
   "cell_type": "markdown",
   "id": "df0339ae",
   "metadata": {},
   "source": [
    "\n",
    "### Alternativ måte å laste ned pakker på\n",
    "1. Øverst i Jupyter NoteBook vil dere kunne se **Terminal** - finn **New Terminal** og trykk der.\n",
    "2. Da åpner det seg et vindu hvor det står noe som:\n",
    "```terminal\n",
    "(base) din_pc_eller_mac ~ % \n",
    "```\n",
    "Så skriver dere \n",
    "```\n",
    "(base) din_pc_eller_mac ~ % pip install numpy\n",
    "```\n",
    "men her uten \"!\", slik vi gjorde over. \n",
    "\n",
    "Dette er bare to ulike måter å laste inn pakker på. Gjør det du føler for!\n",
    "\n"
   ]
  }
 ],
 "metadata": {
  "language_info": {
   "name": "python"
  }
 },
 "nbformat": 4,
 "nbformat_minor": 5
}
