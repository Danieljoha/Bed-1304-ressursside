{
 "cells": [
  {
   "cell_type": "code",
   "execution_count": 1,
   "metadata": {},
   "outputs": [
    {
     "data": {
      "text/plain": [
       "4"
      ]
     },
     "execution_count": 1,
     "metadata": {},
     "output_type": "execute_result"
    }
   ],
   "source": [
    "4"
   ]
  },
  {
   "cell_type": "code",
   "execution_count": 2,
   "metadata": {},
   "outputs": [
    {
     "name": "stdout",
     "output_type": "stream",
     "text": [
      "2.4\n",
      "2.0\n",
      "2.4\n",
      "5\n"
     ]
    }
   ],
   "source": [
    "print( max(2.4,2.0)   )\n",
    "print( min(2.4, 2.0)  )\n",
    "print( abs(-2.4)      )\n",
    "print( len(\"abcde\")   )"
   ]
  },
  {
   "cell_type": "code",
   "execution_count": 3,
   "metadata": {},
   "outputs": [
    {
     "name": "stdout",
     "output_type": "stream",
     "text": [
      "[1, 'hei', 50.8]\n"
     ]
    },
    {
     "data": {
      "text/plain": [
       "3"
      ]
     },
     "execution_count": 3,
     "metadata": {},
     "output_type": "execute_result"
    }
   ],
   "source": [
    "a=50.8\n",
    "print([1,'hei',a])\n",
    "len([1,'hei',a])"
   ]
  },
  {
   "cell_type": "code",
   "execution_count": 4,
   "metadata": {},
   "outputs": [],
   "source": [
    "import numpy as np"
   ]
  },
  {
   "cell_type": "code",
   "execution_count": 5,
   "metadata": {},
   "outputs": [
    {
     "data": {
      "text/plain": [
       "7.38905609893065"
      ]
     },
     "execution_count": 5,
     "metadata": {},
     "output_type": "execute_result"
    }
   ],
   "source": [
    "np.exp(2)"
   ]
  },
  {
   "cell_type": "code",
   "execution_count": 6,
   "metadata": {},
   "outputs": [
    {
     "data": {
      "text/plain": [
       "2.718281828459045"
      ]
     },
     "execution_count": 6,
     "metadata": {},
     "output_type": "execute_result"
    }
   ],
   "source": [
    "np.exp(1)"
   ]
  },
  {
   "cell_type": "code",
   "execution_count": 7,
   "metadata": {},
   "outputs": [
    {
     "data": {
      "text/plain": [
       "148.41315910257657"
      ]
     },
     "execution_count": 7,
     "metadata": {},
     "output_type": "execute_result"
    }
   ],
   "source": [
    "np.exp(1)**5"
   ]
  },
  {
   "cell_type": "code",
   "execution_count": 8,
   "metadata": {},
   "outputs": [
    {
     "data": {
      "text/plain": [
       "148.4131591025766"
      ]
     },
     "execution_count": 8,
     "metadata": {},
     "output_type": "execute_result"
    }
   ],
   "source": [
    "np.exp(5)"
   ]
  },
  {
   "cell_type": "code",
   "execution_count": 9,
   "metadata": {},
   "outputs": [],
   "source": [
    "def account_balance(x,r,T):\n",
    "    return x*(1+r)**T"
   ]
  },
  {
   "cell_type": "code",
   "execution_count": 10,
   "metadata": {},
   "outputs": [
    {
     "data": {
      "text/plain": [
       "144.0"
      ]
     },
     "execution_count": 10,
     "metadata": {},
     "output_type": "execute_result"
    }
   ],
   "source": [
    "account_balance(100,0.2,2)"
   ]
  },
  {
   "cell_type": "code",
   "execution_count": 11,
   "metadata": {},
   "outputs": [],
   "source": [
    "def account_balance_n(x,r,T,n):\n",
    "    return x*(1+r/n)**(T*n)"
   ]
  },
  {
   "cell_type": "code",
   "execution_count": 12,
   "metadata": {},
   "outputs": [
    {
     "name": "stdout",
     "output_type": "stream",
     "text": [
      "148.69146179463576\n",
      "144.0\n"
     ]
    }
   ],
   "source": [
    "print(account_balance_n(100,0.2,2,12))\n",
    "print(account_balance_n(100,0.2,2,1))"
   ]
  },
  {
   "cell_type": "code",
   "execution_count": 13,
   "metadata": {},
   "outputs": [
    {
     "data": {
      "text/plain": [
       "149.18246858790133"
      ]
     },
     "execution_count": 13,
     "metadata": {},
     "output_type": "execute_result"
    }
   ],
   "source": [
    "account_balance_n(100,0.2,2,31536000)"
   ]
  },
  {
   "cell_type": "code",
   "execution_count": 14,
   "metadata": {},
   "outputs": [],
   "source": [
    "def account_balance_exponential(x,r,T):\n",
    "    return x*np.exp(r*T)"
   ]
  },
  {
   "cell_type": "code",
   "execution_count": 15,
   "metadata": {},
   "outputs": [
    {
     "data": {
      "text/plain": [
       "149.18246976412703"
      ]
     },
     "execution_count": 15,
     "metadata": {},
     "output_type": "execute_result"
    }
   ],
   "source": [
    "account_balance_exponential(100,0.2,2)"
   ]
  },
  {
   "cell_type": "code",
   "execution_count": 16,
   "metadata": {},
   "outputs": [],
   "source": [
    "def f(x):\n",
    "    return 2*x"
   ]
  },
  {
   "cell_type": "code",
   "execution_count": 17,
   "metadata": {},
   "outputs": [
    {
     "name": "stdout",
     "output_type": "stream",
     "text": [
      "16\n",
      "<class 'function'>\n",
      "<class 'int'>\n"
     ]
    }
   ],
   "source": [
    "print(f(8))            # printer resultatet av funksjonen når argumentet er 8\n",
    "print(type(f))         # printer hvilken type objekt det er\n",
    "print(type(f(5)))      # printer hvilken type resultate av funksjonen er"
   ]
  },
  {
   "cell_type": "code",
   "execution_count": 18,
   "metadata": {},
   "outputs": [
    {
     "name": "stdout",
     "output_type": "stream",
     "text": [
      "Hello world!\n"
     ]
    }
   ],
   "source": [
    "def hello():\n",
    "    print('Hello world!')\n",
    "\n",
    "hello()"
   ]
  },
  {
   "cell_type": "code",
   "execution_count": 19,
   "metadata": {},
   "outputs": [
    {
     "name": "stdout",
     "output_type": "stream",
     "text": [
      "Hello world!\n"
     ]
    }
   ],
   "source": [
    "hi=hello\n",
    "hi()"
   ]
  },
  {
   "cell_type": "code",
   "execution_count": 20,
   "metadata": {},
   "outputs": [
    {
     "name": "stdout",
     "output_type": "stream",
     "text": [
      "Innehaveren krevde i utgangspunkltet 510.0 kroner for fem epler.\n",
      "Det var alt for mye, så jeg tilbydde 0.051000000000000004 kroner.\n",
      "Vi ble til slutt enige om 51.0 kroner.\n",
      "\n"
     ]
    }
   ],
   "source": [
    "def f(x,a=1.02e+2):\n",
    "    return a*x\n",
    "\n",
    "print(f\"Innehaveren krevde i utgangspunkltet {f(5)} kroner for fem epler.\\n\"\n",
    "     f\"Det var alt for mye, så jeg tilbydde {f(5,1.02e-2)} kroner.\\n\"\n",
    "     f\"Vi ble til slutt enige om {f(5,1.02e+1)} kroner.\\n\")"
   ]
  },
  {
   "cell_type": "code",
   "execution_count": 21,
   "metadata": {},
   "outputs": [
    {
     "data": {
      "text/plain": [
       "1000"
      ]
     },
     "execution_count": 21,
     "metadata": {},
     "output_type": "execute_result"
    }
   ],
   "source": [
    "args=(20,50)\n",
    "f(*args)"
   ]
  },
  {
   "cell_type": "code",
   "execution_count": 22,
   "metadata": {},
   "outputs": [],
   "source": [
    "#Creating a function that returns total demand given a price p\n",
    "def demand(x):\n",
    "    return 125/(5+x)"
   ]
  },
  {
   "cell_type": "code",
   "execution_count": 23,
   "metadata": {},
   "outputs": [],
   "source": [
    "#Creating a function that returns total supply given a price p\n",
    "def supply(x):\n",
    "    return x**2"
   ]
  },
  {
   "cell_type": "code",
   "execution_count": 24,
   "metadata": {},
   "outputs": [
    {
     "name": "stdout",
     "output_type": "stream",
     "text": [
      "1\n",
      "4\n",
      "9\n",
      "16\n",
      "25\n",
      "36\n",
      "49\n",
      "64\n",
      "81\n"
     ]
    }
   ],
   "source": [
    "def check():\n",
    "    for i in range(1, 10):\n",
    "        print(supply(i))\n",
    "\n",
    "check()"
   ]
  },
  {
   "cell_type": "code",
   "execution_count": 25,
   "metadata": {},
   "outputs": [
    {
     "name": "stdout",
     "output_type": "stream",
     "text": [
      "1\n",
      "4\n",
      "9\n",
      "16\n",
      "25\n",
      "36\n",
      "49\n",
      "64\n",
      "81\n",
      "20.833333333333332\n",
      "17.857142857142858\n",
      "15.625\n",
      "13.88888888888889\n",
      "12.5\n",
      "11.363636363636363\n",
      "10.416666666666666\n",
      "9.615384615384615\n",
      "8.928571428571429\n"
     ]
    },
    {
     "name": "stdout",
     "output_type": "stream",
     "text": [
      "Kvantum som gir likhet mellom tilbud og etterspørsel: 3.77438833123346\n",
      "Prisen ved dette kvantumet: 14.2460072749513\n"
     ]
    }
   ],
   "source": [
    "def check():\n",
    "    for i in range(1, 10):\n",
    "        print(supply(i))\n",
    "\n",
    "    for b in range(1, 10):\n",
    "        print(demand(b))\n",
    "\n",
    "check()\n",
    "\n",
    "### En mer sofistikert måte å løse dette på er\n",
    "import sympy as sp \n",
    "\n",
    "def difference(x):\n",
    "    return demand(x) - supply(x)\n",
    "\n",
    "# Bruk SymPy for å finne roten til differansefunksjonen\n",
    "x = sp.symbols('x')\n",
    "difference_expr = demand(x) - supply(x)\n",
    "solution = sp.solve(difference_expr, x)\n",
    "\n",
    "# Finn en reell og positiv løsning\n",
    "quantum = [sol.evalf() for sol in solution if sol.is_real and sol > 0][0]\n",
    "price = demand(quantum)\n",
    "\n",
    "print(f\"Kvantum som gir likhet mellom tilbud og etterspørsel: {quantum}\")\n",
    "print(f\"Prisen ved dette kvantumet: {price}\")"
   ]
  },
  {
   "cell_type": "code",
   "execution_count": 26,
   "metadata": {},
   "outputs": [
    {
     "name": "stdout",
     "output_type": "stream",
     "text": [
      "Du har 1000 kr i budsjett\n",
      "Når du har brukt 100 kr, har du\n",
      "900 kr igjen.\n"
     ]
    }
   ],
   "source": [
    "# Funksjon for budsjett\n",
    "def budget(x, b):\n",
    "    print(f'Du har {b} kr i budsjett')\n",
    "    print(f'Når du har brukt {x} kr, har du')\n",
    "    print(f'{b-x} kr igjen.')\n",
    "\n",
    "budget(100, 1000)"
   ]
  },
  {
   "cell_type": "code",
   "execution_count": 27,
   "metadata": {},
   "outputs": [
    {
     "name": "stdout",
     "output_type": "stream",
     "text": [
      "Parkeringstid: 02:22:31, pris per time: 120 kroner, parkeringskostnad: 285.03333333333336 kroner\n"
     ]
    }
   ],
   "source": [
    "def parking_cost(time_period, p):\n",
    "    hh,mm,ss=int(time_period[0:2]),int(time_period[3:5]),int(time_period[6:])\n",
    "    time_decimal = hh + (mm/60) + (ss/(60*60))\n",
    "    return time_decimal*p\n",
    "\n",
    "time_period = \"02:22:31\"\n",
    "p = 120\n",
    "\n",
    "print(f\"Parkeringstid: {time_period}, pris per time: {p} kroner, parkeringskostnad: {parking_cost(time_period, p)} kroner\")"
   ]
  },
  {
   "cell_type": "code",
   "execution_count": 28,
   "metadata": {},
   "outputs": [
    {
     "data": {
      "text/plain": [
       "'dyr'"
      ]
     },
     "execution_count": 28,
     "metadata": {},
     "output_type": "execute_result"
    }
   ],
   "source": [
    "import numpy as np\n",
    "\n",
    "def get_adjective(adj_list):\n",
    "    i = np.random.randint(len(adj_list))\n",
    "    return adj_list[i]\n",
    "\n",
    "get_adjective(['dyr', 'billig', 'pareto optimal', 'høy', 'lav', 'ineffektiv'])"
   ]
  },
  {
   "cell_type": "code",
   "execution_count": 29,
   "metadata": {},
   "outputs": [
    {
     "name": "stdout",
     "output_type": "stream",
     "text": [
      "True\n",
      "[1 2 3 4 5]\n",
      "[1. 2. 3. 4. 5.]\n"
     ]
    }
   ],
   "source": [
    "### Oppgave 4a ###\n",
    "import numpy as np\n",
    "\n",
    "# Lager en array av tall\n",
    "x = np.array([1, 2, 3, 4, 5])\n",
    "\n",
    "# Bruker exponential function (exp) på array'en kalt 'x'\n",
    "exp_values = np.exp(x)\n",
    "\n",
    "# Bruker logarithmic function (log) på variabelen 'exp_values'\n",
    "log_values = np.log(exp_values)\n",
    "\n",
    "# Sjekker om log_values er det samme som de orginale 'x' verdiene\n",
    "print(np.allclose(log_values, x))\n",
    "\n",
    "# Kan også sjekkes ved å printe hver array\n",
    "print(x)\n",
    "print(log_values)"
   ]
  },
  {
   "cell_type": "code",
   "execution_count": 30,
   "metadata": {},
   "outputs": [
    {
     "name": "stdout",
     "output_type": "stream",
     "text": [
      "i %: 2.499999999999991, i log: 2.4692612590371414\n",
      "i %: 5.000000000000004, i log: 4.879016416943204\n",
      "i %: 10.000000000000009, i log: 9.531017980432493\n",
      "i %: 14.999999999999991, i log: 13.976194237515863\n",
      "i %: 19.999999999999996, i log: 18.232155679395458\n"
     ]
    }
   ],
   "source": [
    "### Oppgave 4b ###\n",
    "\n",
    "# Lager en funksjon som skal ta inn en liste av formen \"[x, y, z, ...]\"\n",
    "def percentage_of_two_hundred(x):\n",
    "    \n",
    "    # Oppretter en tom liste, som vi skal legge til prosentverdiene til etterpå.\n",
    "    liste = []\n",
    "    \n",
    "    # Vi skal iterere gjennom lista med innput 'x', fra 0'te element til i'te element.\n",
    "    for i in range(0, len(x)):\n",
    "        decimal_perc = (x[i]/200)\n",
    "        perc = round(decimal_perc*100, 2)\n",
    "        liste.append(perc)\n",
    "        \n",
    "    log_liste = np.log(liste)\n",
    "    return(liste, log_liste)\n",
    "\n",
    "percentage_of_two_hundred([205, 210, 220, 230, 240])\n",
    "\n",
    "### Alernativ løsning ###\n",
    "for i in [205,210,220,230, 240]:\n",
    "    print(f\"i %: {100*(i/200-1)}, i log: {100*np.log(i/200)}\")"
   ]
  },
  {
   "cell_type": "code",
   "execution_count": 31,
   "metadata": {},
   "outputs": [
    {
     "name": "stdout",
     "output_type": "stream",
     "text": [
      "222.55409284924679\n"
     ]
    },
    {
     "data": {
      "text/plain": [
       "222.55409284924679"
      ]
     },
     "execution_count": 31,
     "metadata": {},
     "output_type": "execute_result"
    }
   ],
   "source": [
    "def higest_account_balance(x,r,T,n):\n",
    "    return max((\n",
    "        account_balance_n(x,r,T,n),\n",
    "        account_balance_exponential(x,r,T)\n",
    "    ))\n",
    "    \n",
    "print(higest_account_balance(100, 0.2, 4, 1))\n",
    "account_balance_exponential(100, 0.2, 4)"
   ]
  },
  {
   "cell_type": "code",
   "execution_count": 32,
   "metadata": {},
   "outputs": [
    {
     "name": "stdout",
     "output_type": "stream",
     "text": [
      "10\n",
      "10\n",
      "[ 1  5 10]\n",
      "3\n",
      "9\n"
     ]
    }
   ],
   "source": [
    "values = eval(\"1, -5, 10\")\n",
    "print(max(values))\n",
    "print(max(values))\n",
    "print(np.abs(values))\n",
    "print(len(values))\n",
    "print(len(\"1, -5, 10\"))"
   ]
  },
  {
   "cell_type": "code",
   "execution_count": 33,
   "metadata": {},
   "outputs": [],
   "source": [
    "def present_value(x,r,T,n):\n",
    "    return x*(1+r/n)**(-T*n)\n",
    "\n",
    "def present_value_exponential(x,r,T):\n",
    "    return x*np.exp(-r*T)"
   ]
  },
  {
   "cell_type": "code",
   "execution_count": 34,
   "metadata": {},
   "outputs": [
    {
     "name": "stdout",
     "output_type": "stream",
     "text": [
      "44.932896411722155\n",
      "222.55409284924679\n",
      "48.22530864197532\n",
      "207.35999999999999\n"
     ]
    }
   ],
   "source": [
    "def pv_or_balance(x,r,T, return_pv ,n=None):\n",
    "    if n is None:\n",
    "        if return_pv:\n",
    "            return present_value_exponential(x,r,T)\n",
    "        else:\n",
    "            return account_balance_exponential(x,r,T)\n",
    "    else:\n",
    "        if return_pv:\n",
    "            return present_value(x,r,T, n)\n",
    "        else:\n",
    "            return account_balance_n(x,r,T,n)\n",
    "\n",
    "        \n",
    "print( pv_or_balance(100, 0.2, 4, True) )\n",
    "print( pv_or_balance(100, 0.2, 4, False) )\n",
    "print( pv_or_balance(100, 0.2, 4, True, 1) )\n",
    "print( pv_or_balance(100, 0.2, 4, False, 1) )"
   ]
  },
  {
   "cell_type": "code",
   "execution_count": 35,
   "metadata": {},
   "outputs": [
    {
     "name": "stdout",
     "output_type": "stream",
     "text": [
      "44.932896411722155\n",
      "222.55409284924679\n",
      "48.22530864197532\n",
      "207.35999999999999\n"
     ]
    }
   ],
   "source": [
    "def pv_or_balance(x,r,T ,n=None):\n",
    "    if n is None:\n",
    "        return account_balance_exponential(x,r,T)\n",
    "    else:\n",
    "        return account_balance_n(x,r,T, n)\n",
    "\n",
    "    \n",
    "print( pv_or_balance(100, 0.2, -4) )\n",
    "print( pv_or_balance(100, 0.2,  4) )\n",
    "print( pv_or_balance(100, 0.2, -4, 1) )\n",
    "print( pv_or_balance(100, 0.2,  4, 1) )"
   ]
  }
 ],
 "metadata": {
  "kernelspec": {
   "display_name": "Python 3 (ipykernel)",
   "language": "python",
   "name": "python3"
  },
  "language_info": {
   "codemirror_mode": {
    "name": "ipython",
    "version": 3
   },
   "file_extension": ".py",
   "mimetype": "text/x-python",
   "name": "python",
   "nbconvert_exporter": "python",
   "pygments_lexer": "ipython3",
   "version": "3.11.2"
  }
 },
 "nbformat": 4,
 "nbformat_minor": 4
}