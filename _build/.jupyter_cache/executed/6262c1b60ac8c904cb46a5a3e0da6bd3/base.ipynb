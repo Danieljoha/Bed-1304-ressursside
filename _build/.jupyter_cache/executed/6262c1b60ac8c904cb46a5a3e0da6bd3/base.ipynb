{
 "cells": [
  {
   "cell_type": "code",
   "execution_count": 1,
   "id": "255f2ae7",
   "metadata": {},
   "outputs": [
    {
     "name": "stdout",
     "output_type": "stream",
     "text": [
      "Looking in links: c:\\Users\\Daniel\\AppData\\Local\\Temp\\tmpif6rftzh\n",
      "Requirement already satisfied: setuptools in c:\\users\\daniel\\appdata\\local\\programs\\python\\python311\\lib\\site-packages (65.5.0)\n",
      "Requirement already satisfied: pip in c:\\users\\daniel\\appdata\\local\\programs\\python\\python311\\lib\\site-packages (25.2)\n"
     ]
    },
    {
     "name": "stdout",
     "output_type": "stream",
     "text": [
      "Requirement already satisfied: pip in c:\\users\\daniel\\appdata\\local\\programs\\python\\python311\\lib\\site-packages (25.2)\n",
      "Note: you may need to restart the kernel to use updated packages.\n"
     ]
    },
    {
     "name": "stdout",
     "output_type": "stream",
     "text": [
      "Requirement already satisfied: numpy in c:\\users\\daniel\\appdata\\local\\programs\\python\\python311\\lib\\site-packages (1.26.0)Note: you may need to restart the kernel to use updated packages.\n",
      "\n"
     ]
    }
   ],
   "source": [
    "import sys\n",
    "!{sys.executable} -m ensurepip --upgrade\n",
    "%pip install --upgrade pip\n",
    "%pip install numpy"
   ]
  },
  {
   "cell_type": "code",
   "execution_count": 2,
   "id": "d3b40c07",
   "metadata": {},
   "outputs": [],
   "source": [
    "#!python -m ensurepip --upgrade"
   ]
  },
  {
   "cell_type": "code",
   "execution_count": 3,
   "id": "167d9a0a",
   "metadata": {},
   "outputs": [],
   "source": [
    "#!python3 -m ensurepip --upgrade"
   ]
  },
  {
   "cell_type": "code",
   "execution_count": 4,
   "id": "a98b70a9",
   "metadata": {},
   "outputs": [],
   "source": [
    "# !curl https://bootstrap.pypa.io/get-pip.py -o get-pip.py\n",
    "# !python get-pip.py"
   ]
  },
  {
   "cell_type": "code",
   "execution_count": 5,
   "id": "5b510644",
   "metadata": {},
   "outputs": [
    {
     "name": "stdout",
     "output_type": "stream",
     "text": [
      "Requirement already satisfied: numpy in c:\\users\\daniel\\appdata\\local\\programs\\python\\python311\\lib\\site-packages (1.26.0)\n",
      "Note: you may need to restart the kernel to use updated packages.\n"
     ]
    }
   ],
   "source": [
    "%pip install numpy"
   ]
  },
  {
   "cell_type": "code",
   "execution_count": 6,
   "id": "35d1b251",
   "metadata": {},
   "outputs": [],
   "source": [
    "#Evt denne dersom %pip ikke funker\n",
    "#!pip install numpy"
   ]
  }
 ],
 "metadata": {
  "language_info": {
   "codemirror_mode": {
    "name": "ipython",
    "version": 3
   },
   "file_extension": ".py",
   "mimetype": "text/x-python",
   "name": "python",
   "nbconvert_exporter": "python",
   "pygments_lexer": "ipython3",
   "version": "3.11.2"
  }
 },
 "nbformat": 4,
 "nbformat_minor": 5
}