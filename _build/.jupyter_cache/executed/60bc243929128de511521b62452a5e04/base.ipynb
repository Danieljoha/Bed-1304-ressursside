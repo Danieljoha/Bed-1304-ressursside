{
 "cells": [
  {
   "cell_type": "code",
   "execution_count": 1,
   "metadata": {},
   "outputs": [
    {
     "name": "stdout",
     "output_type": "stream",
     "text": [
      "Total inntekt for året: 426000\n",
      "Gjennomsnittlig månedlig inntekt: 35500.0\n",
      "Høyeste inntekt: 41000\n",
      "Laveste inntekt: 30000\n"
     ]
    }
   ],
   "source": [
    "# Løsningsforslag oppgave 1\n",
    "\n",
    "# 1.1 Lag en liste med inntekter\n",
    "inntekter = [30000, 32000, 31000, 33000, 34000, 35000, 36000, 37000, 38000, 39000, 40000, 41000]\n",
    "\n",
    "# 1.2 Beregn total inntekt\n",
    "total_inntekt = sum(inntekter)\n",
    "print(\"Total inntekt for året:\", total_inntekt)\n",
    "\n",
    "# 1.3 Finn gjennomsnittlig inntekt\n",
    "gjennomsnitt_inntekt = total_inntekt / len(inntekter)\n",
    "print(\"Gjennomsnittlig månedlig inntekt:\", gjennomsnitt_inntekt)\n",
    "\n",
    "# 1.4 Finn høyeste og laveste inntekt\n",
    "hoyeste_inntekt = max(inntekter)\n",
    "laveste_inntekt = min(inntekter)\n",
    "print(\"Høyeste inntekt:\", hoyeste_inntekt)\n",
    "print(\"Laveste inntekt:\", laveste_inntekt)"
   ]
  },
  {
   "cell_type": "code",
   "execution_count": 2,
   "metadata": {},
   "outputs": [
    {
     "name": "stdout",
     "output_type": "stream",
     "text": [
      "Total utgift for året: 306000\n",
      "Gjennomsnittlige månedlige utgifter: 25500.0\n",
      "Median av utgiftene: 25500.0\n"
     ]
    }
   ],
   "source": [
    "# 2.1\n",
    "import numpy as np\n",
    "\n",
    "# 2.2 Lag en NumPy-array med utgifter\n",
    "utgifter = np.array([20000, 21000, 22000, 23000, 24000, 25000, 26000, 27000, 28000, 29000, 30000, 31000])\n",
    "\n",
    "# 2.3 Beregn total utgift\n",
    "total_utgift = np.sum(utgifter)\n",
    "print(\"Total utgift for året:\", total_utgift)\n",
    "\n",
    "# 2.4 Finn gjennomsnittlige månedlige utgifter\n",
    "gjennomsnitt_utgift = np.mean(utgifter)\n",
    "print(\"Gjennomsnittlige månedlige utgifter:\", gjennomsnitt_utgift)\n",
    "\n",
    "# 2.5 Finn medianen av utgiftene\n",
    "median_utgift = np.median(utgifter)\n",
    "print(\"Median av utgiftene:\", median_utgift)"
   ]
  },
  {
   "cell_type": "code",
   "execution_count": 3,
   "metadata": {},
   "outputs": [
    {
     "ename": "SyntaxError",
     "evalue": "f-string: unmatched '[' (3130974537.py, line 9)",
     "output_type": "error",
     "traceback": [
      "\u001b[1;36m  Cell \u001b[1;32mIn[3], line 9\u001b[1;36m\u001b[0m\n\u001b[1;33m    print(f'Nettoinntekt til Husholdning A er {husholdninger['Husholdning A']['inntekt'] - husholdninger['Husholdning A']['utgift']}')\u001b[0m\n\u001b[1;37m                                                              ^\u001b[0m\n\u001b[1;31mSyntaxError\u001b[0m\u001b[1;31m:\u001b[0m f-string: unmatched '['\n"
     ]
    }
   ],
   "source": [
    "# 1. Lag en dictionary med husholdninger\n",
    "husholdninger = {\n",
    "    'Husholdning A': {'inntekt': 40000, 'utgift': 25000},\n",
    "    'Husholdning B': {'inntekt': 50000, 'utgift': 30000},\n",
    "    'Husholdning C': {'inntekt': 45000, 'utgift': 27000}\n",
    "}\n",
    "\n",
    "# 2. Beregn nettoinntekten for hver husholdning\n",
    "print(f'Nettoinntekt til Husholdning A er {husholdninger['Husholdning A']['inntekt'] - husholdninger['Husholdning A']['utgift']}')\n",
    "\n",
    "# 3. Finn husholdningen med høyest nettoinntekt\n",
    "hoyest_nettovinn = max(husholdninger.items(), key=lambda x: x[1]['inntekt'] - x[1]['utgift'])\n",
    "print(\"Husholdning med høyest nettoinntekt:\", hoyest_nettovinn[0])\n"
   ]
  },
  {
   "cell_type": "code",
   "execution_count": 4,
   "metadata": {},
   "outputs": [
    {
     "ename": "NameError",
     "evalue": "name 'husholdninger' is not defined",
     "output_type": "error",
     "traceback": [
      "\u001b[1;31m---------------------------------------------------------------------------\u001b[0m",
      "\u001b[1;31mNameError\u001b[0m                                 Traceback (most recent call last)",
      "Cell \u001b[1;32mIn[4], line 14\u001b[0m\n\u001b[0;32m     11\u001b[0m     \u001b[38;5;28mprint\u001b[39m(\u001b[38;5;124mf\u001b[39m\u001b[38;5;124m'\u001b[39m\u001b[38;5;124mHusholdningen med høyest nettoinntekt er \u001b[39m\u001b[38;5;132;01m{\u001b[39;00mhusholdning_med_hoyest_nettovinn\u001b[38;5;132;01m}\u001b[39;00m\u001b[38;5;124m med \u001b[39m\u001b[38;5;132;01m{\u001b[39;00mnettoinntekter[husholdning_med_hoyest_nettovinn]\u001b[38;5;132;01m}\u001b[39;00m\u001b[38;5;124m kr\u001b[39m\u001b[38;5;124m'\u001b[39m)\n\u001b[0;32m     13\u001b[0m \u001b[38;5;66;03m# 3. Kjør funksjonen\u001b[39;00m\n\u001b[1;32m---> 14\u001b[0m analyser_husholdninger(\u001b[43mhusholdninger\u001b[49m)    \n",
      "\u001b[1;31mNameError\u001b[0m: name 'husholdninger' is not defined"
     ]
    }
   ],
   "source": [
    "# Definer en funksjon for å beregne nettoinntekt og finne høyeste nettoinntekt\n",
    "def analyser_husholdninger(husholdninger):\n",
    "    nettoinntekter = {}\n",
    "\n",
    "    for navn, data in husholdninger.items():\n",
    "        nettoinntekt = data['inntekt'] - data['utgift']\n",
    "        nettoinntekter[navn] = nettoinntekt\n",
    "        print(f'Nettoinntekt til {navn} er {nettoinntekt} kr')\n",
    "\n",
    "    husholdning_med_hoyest_nettovinn = max(nettoinntekter, key=nettoinntekter.get)\n",
    "    print(f'Husholdningen med høyest nettoinntekt er {husholdning_med_hoyest_nettovinn} med {nettoinntekter[husholdning_med_hoyest_nettovinn]} kr')\n",
    "\n",
    "# 3. Kjør funksjonen\n",
    "analyser_husholdninger(husholdninger)    "
   ]
  }
 ],
 "metadata": {
  "kernelspec": {
   "display_name": "myenv",
   "language": "python",
   "name": "python3"
  },
  "language_info": {
   "codemirror_mode": {
    "name": "ipython",
    "version": 3
   },
   "file_extension": ".py",
   "mimetype": "text/x-python",
   "name": "python",
   "nbconvert_exporter": "python",
   "pygments_lexer": "ipython3",
   "version": "3.11.2"
  }
 },
 "nbformat": 4,
 "nbformat_minor": 2
}