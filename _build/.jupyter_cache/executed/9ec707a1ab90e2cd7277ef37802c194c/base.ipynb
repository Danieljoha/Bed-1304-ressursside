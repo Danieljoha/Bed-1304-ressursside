{
 "cells": [
  {
   "cell_type": "code",
   "execution_count": 1,
   "id": "ed9b4533",
   "metadata": {},
   "outputs": [
    {
     "name": "stdout",
     "output_type": "stream",
     "text": [
      "Her er det lov å skrive norsk, for dette skal ut til skjermen!\n",
      "Jeg heter Ola Nordmann\n"
     ]
    }
   ],
   "source": [
    "# La oss lage et enkelt program\n",
    "my_sentence = \"Her er det lov å skrive norsk, for dette skal ut til skjermen!\"\n",
    "print(my_sentence)\n",
    "\n",
    "# La oss skrive en ny setning\n",
    "sentence = \"Jeg heter Ola Nordmann\"\n",
    "print(sentence)"
   ]
  },
  {
   "cell_type": "code",
   "execution_count": 2,
   "id": "cbe9d1e1",
   "metadata": {},
   "outputs": [],
   "source": [
    "# Her er det flere, ulike variabler\n",
    "\n",
    "# Heltall\n",
    "variable_a = 1\n",
    "\n",
    "# Desimaltall\n",
    "variable_b = 2.5678\n",
    "\n",
    "# Sant/usant\n",
    "variable_c = True\n",
    "\n",
    "# Tekst\n",
    "variable_d = \"Hello, World!\""
   ]
  },
  {
   "cell_type": "code",
   "execution_count": 3,
   "id": "9030787b",
   "metadata": {},
   "outputs": [
    {
     "data": {
      "text/plain": [
       "bool"
      ]
     },
     "execution_count": 3,
     "metadata": {},
     "output_type": "execute_result"
    }
   ],
   "source": [
    "# Eksempel på bool-variabel\n",
    "apple_is_tasty = True\n",
    "type(apple_is_tasty)"
   ]
  },
  {
   "cell_type": "code",
   "execution_count": 4,
   "id": "84056ae3",
   "metadata": {},
   "outputs": [
    {
     "name": "stdout",
     "output_type": "stream",
     "text": [
      "True\n"
     ]
    }
   ],
   "source": [
    "# Printer verdien til 'apple_is_tasty'\n",
    "print(apple_is_tasty)"
   ]
  },
  {
   "cell_type": "code",
   "execution_count": 5,
   "id": "7f69d24e",
   "metadata": {},
   "outputs": [
    {
     "data": {
      "text/plain": [
       "int"
      ]
     },
     "execution_count": 5,
     "metadata": {},
     "output_type": "execute_result"
    }
   ],
   "source": [
    "# Heltall/integer eksempel\n",
    "\n",
    "number_of_apples = 8\n",
    "type(number_of_apples)"
   ]
  },
  {
   "cell_type": "code",
   "execution_count": 6,
   "id": "ea51e180",
   "metadata": {},
   "outputs": [
    {
     "data": {
      "text/plain": [
       "int"
      ]
     },
     "execution_count": 6,
     "metadata": {},
     "output_type": "execute_result"
    }
   ],
   "source": [
    "# Gjøre om variabletype\n",
    "type(int(apple_is_tasty))"
   ]
  },
  {
   "cell_type": "code",
   "execution_count": 7,
   "id": "47aa9559",
   "metadata": {},
   "outputs": [
    {
     "name": "stdout",
     "output_type": "stream",
     "text": [
      "8.0 er av typen <class 'float'>\n",
      "8 er av typen <class 'int'>\n"
     ]
    }
   ],
   "source": [
    "number = 8.00\n",
    "print(f'{number} er av typen {type(number)}')\n",
    "\n",
    "# Nå gjør vi om 'number'\n",
    "number_two = int(number)\n",
    "print(f'{number_two} er av typen {type(number_two)}')"
   ]
  },
  {
   "cell_type": "code",
   "execution_count": 8,
   "id": "d37b0ae7",
   "metadata": {},
   "outputs": [
    {
     "data": {
      "text/plain": [
       "bool"
      ]
     },
     "execution_count": 8,
     "metadata": {},
     "output_type": "execute_result"
    }
   ],
   "source": [
    "type(bool(0))"
   ]
  },
  {
   "cell_type": "code",
   "execution_count": 9,
   "id": "a6bd49fd",
   "metadata": {},
   "outputs": [
    {
     "data": {
      "text/plain": [
       "0"
      ]
     },
     "execution_count": 9,
     "metadata": {},
     "output_type": "execute_result"
    }
   ],
   "source": [
    "20*False"
   ]
  },
  {
   "cell_type": "code",
   "execution_count": 10,
   "id": "1a6c9364",
   "metadata": {},
   "outputs": [
    {
     "data": {
      "text/plain": [
       "20"
      ]
     },
     "execution_count": 10,
     "metadata": {},
     "output_type": "execute_result"
    }
   ],
   "source": [
    "20*True"
   ]
  },
  {
   "cell_type": "code",
   "execution_count": 11,
   "id": "d0cf16ec",
   "metadata": {},
   "outputs": [
    {
     "data": {
      "text/plain": [
       "float"
      ]
     },
     "execution_count": 11,
     "metadata": {},
     "output_type": "execute_result"
    }
   ],
   "source": [
    "# Floating point (float), altså desimaltall\n",
    "\n",
    "apple_price = 11.0\n",
    "type(apple_price)"
   ]
  },
  {
   "cell_type": "code",
   "execution_count": 12,
   "id": "77e562ff",
   "metadata": {},
   "outputs": [
    {
     "data": {
      "text/plain": [
       "int"
      ]
     },
     "execution_count": 12,
     "metadata": {},
     "output_type": "execute_result"
    }
   ],
   "source": [
    "apple_price = 11\n",
    "type(apple_price)"
   ]
  },
  {
   "cell_type": "code",
   "execution_count": 13,
   "id": "e82e8d03",
   "metadata": {},
   "outputs": [
    {
     "name": "stdout",
     "output_type": "stream",
     "text": [
      "102.0\n"
     ]
    }
   ],
   "source": [
    "insane_apple_price = 1.02e+2\n",
    "print(insane_apple_price)"
   ]
  },
  {
   "cell_type": "code",
   "execution_count": 14,
   "id": "b75e0c81",
   "metadata": {},
   "outputs": [
    {
     "name": "stdout",
     "output_type": "stream",
     "text": [
      "0.0102\n"
     ]
    }
   ],
   "source": [
    "really_cheap_apple_price = 1.02e-2\n",
    "print(really_cheap_apple_price)"
   ]
  },
  {
   "cell_type": "code",
   "execution_count": 15,
   "id": "fc853489",
   "metadata": {},
   "outputs": [
    {
     "name": "stdout",
     "output_type": "stream",
     "text": [
      "88\n"
     ]
    }
   ],
   "source": [
    "total = apple_price*number_of_apples\n",
    "print(total)"
   ]
  },
  {
   "cell_type": "code",
   "execution_count": 16,
   "id": "1c8bced5",
   "metadata": {},
   "outputs": [
    {
     "name": "stdout",
     "output_type": "stream",
     "text": [
      "1.6\n"
     ]
    }
   ],
   "source": [
    "number_of_persons = 5\n",
    "apple_per_person  = number_of_apples/number_of_persons\n",
    "print(apple_per_person)"
   ]
  },
  {
   "cell_type": "code",
   "execution_count": 17,
   "id": "4ac21013",
   "metadata": {},
   "outputs": [
    {
     "data": {
      "text/plain": [
       "1.0"
      ]
     },
     "execution_count": 17,
     "metadata": {},
     "output_type": "execute_result"
    }
   ],
   "source": [
    "5/5"
   ]
  },
  {
   "cell_type": "code",
   "execution_count": 18,
   "id": "0b4c52d8",
   "metadata": {},
   "outputs": [
    {
     "name": "stdout",
     "output_type": "stream",
     "text": [
      "5\n",
      "-1\n",
      "6\n",
      "0.6666666666666666\n"
     ]
    }
   ],
   "source": [
    "print(2+3)\n",
    "print(2-3)\n",
    "print(2*3)\n",
    "print(2/3)"
   ]
  },
  {
   "cell_type": "code",
   "execution_count": 19,
   "id": "37f96c91",
   "metadata": {},
   "outputs": [
    {
     "data": {
      "text/plain": [
       "8"
      ]
     },
     "execution_count": 19,
     "metadata": {},
     "output_type": "execute_result"
    }
   ],
   "source": [
    "2**3"
   ]
  },
  {
   "cell_type": "code",
   "execution_count": 20,
   "id": "82b4c6fe",
   "metadata": {},
   "outputs": [
    {
     "data": {
      "text/plain": [
       "str"
      ]
     },
     "execution_count": 20,
     "metadata": {},
     "output_type": "execute_result"
    }
   ],
   "source": [
    "# string:\n",
    "x = \"Dette er en streng (dvs tekst)\"\n",
    "type(x)"
   ]
  },
  {
   "cell_type": "code",
   "execution_count": 21,
   "id": "179c8bc8",
   "metadata": {},
   "outputs": [
    {
     "name": "stdout",
     "output_type": "stream",
     "text": [
      "Det er True at jeg synes epler smaker godt.\n"
     ]
    }
   ],
   "source": [
    "print(f\"Det er {apple_is_tasty} at jeg synes epler smaker godt.\")"
   ]
  },
  {
   "cell_type": "code",
   "execution_count": 22,
   "id": "2ec78db9",
   "metadata": {},
   "outputs": [
    {
     "data": {
      "text/plain": [
       "'Jeg gikk derfor på butikken for å kjøpe'"
      ]
     },
     "execution_count": 22,
     "metadata": {},
     "output_type": "execute_result"
    }
   ],
   "source": [
    "\"Jeg \"+\"gikk \"+\"derfor \"+\"på \"+\"butikken \"+\"for \"+\"å \"+\"kjøpe\""
   ]
  },
  {
   "cell_type": "code",
   "execution_count": 23,
   "id": "74e285e9",
   "metadata": {},
   "outputs": [
    {
     "ename": "TypeError",
     "evalue": "can only concatenate str (not \"int\") to str",
     "output_type": "error",
     "traceback": [
      "\u001b[1;31m---------------------------------------------------------------------------\u001b[0m",
      "\u001b[1;31mTypeError\u001b[0m                                 Traceback (most recent call last)",
      "Cell \u001b[1;32mIn[23], line 1\u001b[0m\n\u001b[1;32m----> 1\u001b[0m \u001b[38;5;124;43m\"\u001b[39;49m\u001b[38;5;124;43mJeg gikk derfor på butikken for å kjøpe \u001b[39;49m\u001b[38;5;124;43m\"\u001b[39;49m\u001b[43m \u001b[49m\u001b[38;5;241;43m+\u001b[39;49m\u001b[43m \u001b[49m\u001b[43mnumber_of_apples\u001b[49m \u001b[38;5;241m+\u001b[39m \u001b[38;5;124m\"\u001b[39m\u001b[38;5;124m epler. \u001b[39m\u001b[38;5;124m\"\u001b[39m\n",
      "\u001b[1;31mTypeError\u001b[0m: can only concatenate str (not \"int\") to str"
     ]
    }
   ],
   "source": [
    "\"Jeg gikk derfor på butikken for å kjøpe \" + number_of_apples + \" epler. \""
   ]
  },
  {
   "cell_type": "code",
   "execution_count": 24,
   "id": "b4c82747",
   "metadata": {},
   "outputs": [
    {
     "data": {
      "text/plain": [
       "'Jeg gikk derfor på butikken for å kjøpe 8 epler.'"
      ]
     },
     "execution_count": 24,
     "metadata": {},
     "output_type": "execute_result"
    }
   ],
   "source": [
    "\"Jeg gikk derfor på butikken for å kjøpe \" + str(number_of_apples) + \" epler.\""
   ]
  },
  {
   "cell_type": "code",
   "execution_count": 25,
   "id": "381c54a2",
   "metadata": {},
   "outputs": [
    {
     "name": "stdout",
     "output_type": "stream",
     "text": [
      "Det er True at jeg synes epler smaker godt. \n",
      "Jeg gikk derfor på butikken for å kjøpe 8 epler. \n",
      "Innehaveren gav meg en vanvittig pris. Hun skulle ha 102.0 kroner per eple. \n",
      "Jeg fortalte henne at det var helt uaktuelt, og foreslo 0.0102 kroner. \n",
      "Hun avslo, men vi ble til sist enig om 11 kroner.\n",
      "Jeg betalte hennet til sammen 88 kroner og dro hjem. \n",
      "\n",
      "På veien traff jeg 5 venner. Jeg hadde ikke noe annet valg enn å dele eplene mine med dem. \n",
      "Det ble 1.6 epler per person.\n",
      "\n"
     ]
    }
   ],
   "source": [
    "print(\n",
    "    f\"Det er {apple_is_tasty} at jeg synes epler smaker godt. \\n\"\n",
    "    f\"Jeg gikk derfor på butikken for å kjøpe {number_of_apples} epler. \\n\"\n",
    "    f\"Innehaveren gav meg en vanvittig pris. Hun skulle ha {insane_apple_price} kroner per eple. \\n\"\n",
    "    f\"Jeg fortalte henne at det var helt uaktuelt, og foreslo {really_cheap_apple_price} kroner. \\n\"\n",
    "    f\"Hun avslo, men vi ble til sist enig om {apple_price} kroner.\\n\"\n",
    "    f\"Jeg betalte hennet til sammen {apple_price*number_of_apples} kroner og dro hjem. \\n\\n\"\n",
    "    f\"På veien traff jeg {number_of_persons} venner. Jeg hadde ikke noe annet valg enn å dele eplene mine med dem. \\n\"\n",
    "    f\"Det ble {number_of_apples/number_of_persons} epler per person.\\n\"\n",
    ")"
   ]
  },
  {
   "cell_type": "code",
   "execution_count": 26,
   "id": "223094a7",
   "metadata": {},
   "outputs": [
    {
     "name": "stdout",
     "output_type": "stream",
     "text": [
      "Jeg gikk derfor på butikken for å 'kjøpe' epler.\n",
      "Jeg gikk derfor på butikken for å \"kjøpe\" epler.\n"
     ]
    }
   ],
   "source": [
    "print( \"Jeg gikk derfor på butikken for å 'kjøpe' epler.\")\n",
    "print( 'Jeg gikk derfor på butikken for å \"kjøpe\" epler.')"
   ]
  },
  {
   "cell_type": "code",
   "execution_count": 27,
   "id": "7c7c3de5",
   "metadata": {},
   "outputs": [
    {
     "name": "stdout",
     "output_type": "stream",
     "text": [
      "Det er True at jeg synes epler smaker godt.\n",
      "Jeg gikk derfor på butikken for å kjøpe 8 epler.\n",
      "Innehaveren gav meg en vanvittig pris. Hun skulle ha 102.0 kroner per eple.\n",
      "Jeg fortalte henne at det var helt uaktuelt, og foreslo 0.0102 kroner.\n",
      "Hun avslo, men vi ble til sist enige om 11 kroner.\n",
      "Jeg betalte hennet til sammen 88 kroner og dro hjem.\n",
      "\n",
      "På veien traff jeg 5 venner. Jeg hadde ikke noe annet valg enn å dele eplene mine med dem.\n",
      "Det ble 1.6 epler per person.\n"
     ]
    }
   ],
   "source": [
    "s=f\"\"\"Det er {apple_is_tasty} at jeg synes epler smaker godt.\n",
    "Jeg gikk derfor på butikken for å kjøpe {number_of_apples} epler.\n",
    "Innehaveren gav meg en vanvittig pris. Hun skulle ha {insane_apple_price} kroner per eple.\n",
    "Jeg fortalte henne at det var helt uaktuelt, og foreslo {really_cheap_apple_price} kroner.\n",
    "Hun avslo, men vi ble til sist enige om {apple_price} kroner.\n",
    "Jeg betalte hennet til sammen {apple_price*number_of_apples} kroner og dro hjem.\n",
    "\n",
    "På veien traff jeg {number_of_persons} venner. Jeg hadde ikke noe annet valg enn å dele eplene mine med dem.\n",
    "Det ble {number_of_apples/number_of_persons} epler per person.\"\"\"\n",
    "print(s)"
   ]
  },
  {
   "cell_type": "code",
   "execution_count": 28,
   "id": "52c03201",
   "metadata": {},
   "outputs": [
    {
     "name": "stdout",
     "output_type": "stream",
     "text": [
      "Det er True at jeg synes epler smaker godt. Jeg gikk derfor på butikken for å kjøpe 8 epler. Innehaveren gav meg en vanvittig pris. Hun skulle ha 102.0 kroner per eple. Jeg fortalte henne at det var helt uaktuelt, og foreslo 0.0102 kroner. Hun avslo, men vi ble til sist enig om 11 kroner. Jeg betalte hennet til sammen 88 kroner og dro hjem. På veien traff jeg 5 venner. Jeg hadde ikke noe annet valg enn å dele eplene mine med dem. Det ble 1.6 epler per person.\n"
     ]
    }
   ],
   "source": [
    "print(\n",
    "    f\"Det er {apple_is_tasty} at jeg synes epler smaker godt. \"\n",
    "    f\"Jeg gikk derfor på butikken for å kjøpe {number_of_apples} epler. \"\n",
    "    f\"Innehaveren gav meg en vanvittig pris. Hun skulle ha {insane_apple_price} kroner per eple. \"\n",
    "    f\"Jeg fortalte henne at det var helt uaktuelt, og foreslo {really_cheap_apple_price} kroner. \"\n",
    "    f\"Hun avslo, men vi ble til sist enig om {apple_price} kroner. \"\n",
    "    f\"Jeg betalte hennet til sammen {apple_price*number_of_apples} kroner og dro hjem. \"\n",
    "    f\"På veien traff jeg {number_of_persons} venner. Jeg hadde ikke noe annet valg enn å dele eplene mine med dem. \"\n",
    "    f\"Det ble {number_of_apples/number_of_persons} epler per person.\"\n",
    ")"
   ]
  },
  {
   "cell_type": "code",
   "execution_count": 29,
   "id": "22195091",
   "metadata": {},
   "outputs": [
    {
     "name": "stdout",
     "output_type": "stream",
     "text": [
      "En dag dro Ola til parken fordi det var en solfylt dag.\n",
      "Sammen med 3 venner spilte fotball de i flere timer.\n",
      "Etterpå ble de sultne og bestemte seg for å kjøpe is.\n",
      "Hver is kostet 25 kroner, så til sammen betalte de 75 kroner.\n",
      "Det var en flott dag i parken!\n"
     ]
    }
   ],
   "source": [
    "## Her kan man gjøre akkurat det samme men fjerne variablene, og sette inn dine nye.\n",
    "\n",
    "# Definerer variabler\n",
    "navn = \"Ola\"\n",
    "sted = \"parken\"\n",
    "antall_venner = 3\n",
    "aktivitet = \"spilte fotball\"\n",
    "værtype = \"solfylt\"\n",
    "snack = \"is\"\n",
    "pris_per_is = 25\n",
    "totalpris = antall_venner * pris_per_is\n",
    "\n",
    "# Skriver ut historien med variablene, hvor vi bruker \\n for linjeskift\n",
    "print(\n",
    "    f\"En dag dro {navn} til {sted} fordi det var en {værtype} dag.\\n\"\n",
    "    f\"Sammen med {antall_venner} venner {aktivitet} de i flere timer.\\n\"\n",
    "    f\"Etterpå ble de sultne og bestemte seg for å kjøpe {snack}.\\n\"\n",
    "    f\"Hver {snack} kostet {pris_per_is} kroner, så til sammen betalte de {totalpris} kroner.\\n\"\n",
    "    f\"Det var en flott dag i {sted}!\"\n",
    ")"
   ]
  },
  {
   "cell_type": "code",
   "execution_count": 30,
   "id": "b0658dfe",
   "metadata": {},
   "outputs": [
    {
     "name": "stdout",
     "output_type": "stream",
     "text": [
      "10\n",
      "10.0\n",
      "10.0\n",
      "heihei\n",
      "abcabcabc\n",
      "2\n",
      "0\n"
     ]
    }
   ],
   "source": [
    "# Gyldige kombinasjoner\n",
    "\n",
    "# Tall\n",
    "print(5 * 2)      # 10  (int * int)\n",
    "print(5.0 * 2)    # 10.0  (float * int)\n",
    "print(5 * 2.0)    # 10.0  (int * float)\n",
    "\n",
    "# Streng\n",
    "print(\"hei\" * 2)  # \"heihei\"\n",
    "print(\"abc\" * 3)  # \"abcabcabc\"\n",
    "\n",
    "# Boolean\n",
    "print(True * 2)   # 2  (True tolkes som 1)\n",
    "print(False * 5)  # 0  (False tolkes som 0)"
   ]
  },
  {
   "cell_type": "code",
   "execution_count": 31,
   "id": "80c0c290",
   "metadata": {},
   "outputs": [
    {
     "ename": "TypeError",
     "evalue": "can't multiply sequence by non-int of type 'float'",
     "output_type": "error",
     "traceback": [
      "\u001b[1;31m---------------------------------------------------------------------------\u001b[0m",
      "\u001b[1;31mTypeError\u001b[0m                                 Traceback (most recent call last)",
      "Cell \u001b[1;32mIn[31], line 2\u001b[0m\n\u001b[0;32m      1\u001b[0m \u001b[38;5;66;03m# Ugyldige kombinasjoner\u001b[39;00m\n\u001b[1;32m----> 2\u001b[0m \u001b[38;5;28mprint\u001b[39m(\u001b[38;5;124;43m\"\u001b[39;49m\u001b[38;5;124;43mhei\u001b[39;49m\u001b[38;5;124;43m\"\u001b[39;49m\u001b[43m \u001b[49m\u001b[38;5;241;43m*\u001b[39;49m\u001b[43m \u001b[49m\u001b[38;5;241;43m2.0\u001b[39;49m)  \n",
      "\u001b[1;31mTypeError\u001b[0m: can't multiply sequence by non-int of type 'float'"
     ]
    }
   ],
   "source": [
    "# Ugyldige kombinasjoner\n",
    "print(\"hei\" * 2.0)  "
   ]
  },
  {
   "cell_type": "code",
   "execution_count": 32,
   "id": "2cc6c70d",
   "metadata": {},
   "outputs": [
    {
     "name": "stdout",
     "output_type": "stream",
     "text": [
      "8\n",
      "7.0\n",
      "12.3\n",
      "Hei, verden!\n",
      "Hei, Ola\n",
      "[1, 2, 3, 4, 5, 6]\n"
     ]
    }
   ],
   "source": [
    "# Gyldige operasjoner med tall\n",
    "print(5 + 3)      # 8  (int + int)\n",
    "print(4.5 + 2.5)  # 7.0  (float + float)\n",
    "print(10 + 2.3)   # 12.3  (int + float)\n",
    "\n",
    "# Gyldige operasjoner med tekst\n",
    "print(\"Hei, \" + \"verden!\")  # \"Hei, verden!\"\n",
    "navn = \"Ola\"\n",
    "print(\"Hei, \" + navn)  # \"Hei, Ola\"\n",
    "\n",
    "# Kan også så slammen lister (men det skal vi ser mer på senere)\n",
    "print([1, 2, 3] + [4, 5, 6])  # [1, 2, 3, 4, 5, 6]"
   ]
  },
  {
   "cell_type": "code",
   "execution_count": 33,
   "id": "6dbe1972",
   "metadata": {},
   "outputs": [
    {
     "ename": "TypeError",
     "evalue": "can only concatenate str (not \"int\") to str",
     "output_type": "error",
     "traceback": [
      "\u001b[1;31m---------------------------------------------------------------------------\u001b[0m",
      "\u001b[1;31mTypeError\u001b[0m                                 Traceback (most recent call last)",
      "Cell \u001b[1;32mIn[33], line 2\u001b[0m\n\u001b[0;32m      1\u001b[0m \u001b[38;5;66;03m# Ugyldig bruk av +\u001b[39;00m\n\u001b[1;32m----> 2\u001b[0m \u001b[38;5;28mprint\u001b[39m(\u001b[38;5;124;43m\"\u001b[39;49m\u001b[38;5;124;43mAlder: \u001b[39;49m\u001b[38;5;124;43m\"\u001b[39;49m\u001b[43m \u001b[49m\u001b[38;5;241;43m+\u001b[39;49m\u001b[43m \u001b[49m\u001b[38;5;241;43m25\u001b[39;49m)\n",
      "\u001b[1;31mTypeError\u001b[0m: can only concatenate str (not \"int\") to str"
     ]
    }
   ],
   "source": [
    "# Ugyldig bruk av +\n",
    "print(\"Alder: \" + 25)"
   ]
  },
  {
   "cell_type": "code",
   "execution_count": 34,
   "id": "b1ad2304",
   "metadata": {},
   "outputs": [
    {
     "name": "stdout",
     "output_type": "stream",
     "text": [
      "5.0\n",
      "4.5\n",
      "3.3333333333333335\n",
      "10.0\n"
     ]
    }
   ],
   "source": [
    "# Gyldige operasjoner\n",
    "print(10 / 2)  # 5.0 (int / int gir float)\n",
    "print(9.0 / 2.0)  # 4.5\n",
    "print(10 / 3)     # 3.3333333333333335\n",
    "print(10 / True)   # 10.0 (10 / 1)"
   ]
  },
  {
   "cell_type": "code",
   "execution_count": 35,
   "id": "88001d54",
   "metadata": {},
   "outputs": [
    {
     "ename": "ZeroDivisionError",
     "evalue": "float division by zero",
     "output_type": "error",
     "traceback": [
      "\u001b[1;31m---------------------------------------------------------------------------\u001b[0m",
      "\u001b[1;31mZeroDivisionError\u001b[0m                         Traceback (most recent call last)",
      "Cell \u001b[1;32mIn[35], line 2\u001b[0m\n\u001b[0;32m      1\u001b[0m \u001b[38;5;66;03m# Ugyldige operasjoner\u001b[39;00m\n\u001b[1;32m----> 2\u001b[0m \u001b[38;5;28mprint\u001b[39m(\u001b[38;5;241;43m5.0\u001b[39;49m\u001b[43m \u001b[49m\u001b[38;5;241;43m/\u001b[39;49m\u001b[43m \u001b[49m\u001b[38;5;28;43;01mFalse\u001b[39;49;00m) \u001b[38;5;66;03m# ❌ Feil: Division by zero!\u001b[39;00m\n",
      "\u001b[1;31mZeroDivisionError\u001b[0m: float division by zero"
     ]
    }
   ],
   "source": [
    "# Ugyldige operasjoner\n",
    "print(5.0 / False) # ❌ Feil: Division by zero!"
   ]
  },
  {
   "cell_type": "code",
   "execution_count": 36,
   "id": "4d58ab52",
   "metadata": {},
   "outputs": [
    {
     "ename": "TypeError",
     "evalue": "unsupported operand type(s) for /: 'str' and 'int'",
     "output_type": "error",
     "traceback": [
      "\u001b[1;31m---------------------------------------------------------------------------\u001b[0m",
      "\u001b[1;31mTypeError\u001b[0m                                 Traceback (most recent call last)",
      "Cell \u001b[1;32mIn[36], line 1\u001b[0m\n\u001b[1;32m----> 1\u001b[0m \u001b[38;5;28mprint\u001b[39m(\u001b[38;5;124;43m\"\u001b[39;49m\u001b[38;5;124;43mHei\u001b[39;49m\u001b[38;5;124;43m\"\u001b[39;49m\u001b[43m \u001b[49m\u001b[38;5;241;43m/\u001b[39;49m\u001b[43m \u001b[49m\u001b[38;5;241;43m2\u001b[39;49m)\n",
      "\u001b[1;31mTypeError\u001b[0m: unsupported operand type(s) for /: 'str' and 'int'"
     ]
    }
   ],
   "source": [
    "print(\"Hei\" / 2)"
   ]
  },
  {
   "cell_type": "code",
   "execution_count": 37,
   "id": "cd54c86d",
   "metadata": {},
   "outputs": [
    {
     "ename": "ZeroDivisionError",
     "evalue": "division by zero",
     "output_type": "error",
     "traceback": [
      "\u001b[1;31m---------------------------------------------------------------------------\u001b[0m",
      "\u001b[1;31mZeroDivisionError\u001b[0m                         Traceback (most recent call last)",
      "Cell \u001b[1;32mIn[37], line 1\u001b[0m\n\u001b[1;32m----> 1\u001b[0m \u001b[38;5;28mprint\u001b[39m(\u001b[38;5;241;43m10\u001b[39;49m\u001b[43m \u001b[49m\u001b[38;5;241;43m/\u001b[39;49m\u001b[43m \u001b[49m\u001b[38;5;241;43m0\u001b[39;49m)  \u001b[38;5;66;03m# ❌ Feil\u001b[39;00m\n",
      "\u001b[1;31mZeroDivisionError\u001b[0m: division by zero"
     ]
    }
   ],
   "source": [
    "print(10 / 0)  # ❌ Feil"
   ]
  },
  {
   "cell_type": "code",
   "execution_count": 38,
   "id": "58f685c5",
   "metadata": {},
   "outputs": [
    {
     "name": "stdout",
     "output_type": "stream",
     "text": [
      "5\n",
      "5.3\n",
      "9\n",
      "5.5\n",
      "-10\n",
      "5\n"
     ]
    }
   ],
   "source": [
    "# Gyldige operasjoner\n",
    "\n",
    "# Vanlig subtraksjon\n",
    "print(10 - 5)  # 5\n",
    "print(7.5 - 2.2)  # 5.3\n",
    "\n",
    "# Husk at True = 1 og False = 0\n",
    "print(10 - True)   # 9 (10 - 1)\n",
    "print(5.5 - False) # 5.5 (5.5 - 0)\n",
    "\n",
    "# Kan gjøre om negative tall til positive, og omvendt\n",
    "print(-10)   # -10\n",
    "print(-(-5)) # 5"
   ]
  },
  {
   "cell_type": "code",
   "execution_count": 39,
   "id": "05b76408",
   "metadata": {},
   "outputs": [
    {
     "ename": "TypeError",
     "evalue": "unsupported operand type(s) for -: 'str' and 'str'",
     "output_type": "error",
     "traceback": [
      "\u001b[1;31m---------------------------------------------------------------------------\u001b[0m",
      "\u001b[1;31mTypeError\u001b[0m                                 Traceback (most recent call last)",
      "Cell \u001b[1;32mIn[39], line 2\u001b[0m\n\u001b[0;32m      1\u001b[0m \u001b[38;5;66;03m# Ugyldig\u001b[39;00m\n\u001b[1;32m----> 2\u001b[0m \u001b[38;5;28mprint\u001b[39m(\u001b[38;5;124;43m\"\u001b[39;49m\u001b[38;5;124;43mHei\u001b[39;49m\u001b[38;5;124;43m\"\u001b[39;49m\u001b[43m \u001b[49m\u001b[38;5;241;43m-\u001b[39;49m\u001b[43m \u001b[49m\u001b[38;5;124;43m\"\u001b[39;49m\u001b[38;5;124;43mH\u001b[39;49m\u001b[38;5;124;43m\"\u001b[39;49m)  \n",
      "\u001b[1;31mTypeError\u001b[0m: unsupported operand type(s) for -: 'str' and 'str'"
     ]
    }
   ],
   "source": [
    "# Ugyldig\n",
    "print(\"Hei\" - \"H\")  "
   ]
  },
  {
   "cell_type": "code",
   "execution_count": 40,
   "id": "1e1ce49b",
   "metadata": {},
   "outputs": [
    {
     "name": "stdout",
     "output_type": "stream",
     "text": [
      "8.98846567431158e+307\n"
     ]
    }
   ],
   "source": [
    "# Dette er ved hjelp av en løkke, for å se største verdi ved å doble tallet 1, doble det igjen, og igjen og igjen så langt det går før det blir inf (\"uendelig\" for PC/MAC-en).\n",
    "\n",
    "x = 1.0\n",
    "while x * 2 != float(\"inf\"):  # Så lenge det ikke blir \"inf\", fortsett å doble\n",
    "    x *= 2\n",
    "\n",
    "print(x)  # Siste gyldige verdi før \"inf\""
   ]
  },
  {
   "cell_type": "code",
   "execution_count": 41,
   "id": "521aa314",
   "metadata": {},
   "outputs": [
    {
     "name": "stdout",
     "output_type": "stream",
     "text": [
      "1.7976931348623157e+308\n"
     ]
    }
   ],
   "source": [
    "# Kjører dere denne kodeblokken ser dere den høyeste verdien vi kan ha i python.\n",
    "import sys\n",
    "print(sys.float_info.max)  "
   ]
  },
  {
   "cell_type": "code",
   "execution_count": 42,
   "id": "14ddcb0b",
   "metadata": {},
   "outputs": [
    {
     "name": "stdout",
     "output_type": "stream",
     "text": [
      "5e-324\n"
     ]
    }
   ],
   "source": [
    "x = 1.0  \n",
    "while x / 2 > 0:  # Så lenge verdien ikke blir 0.0, fortsett å halvere\n",
    "    x /= 2  \n",
    "\n",
    "print(x)  # Siste gyldige verdi før den blir 0.0"
   ]
  },
  {
   "cell_type": "code",
   "execution_count": 43,
   "id": "dfaf9885",
   "metadata": {},
   "outputs": [
    {
     "data": {
      "text/plain": [
       "1"
      ]
     },
     "execution_count": 43,
     "metadata": {},
     "output_type": "execute_result"
    }
   ],
   "source": [
    "# Konvertere boolsk verdi til heltall\n",
    "bool_verdi = True\n",
    "heltall = int(bool_verdi)  # Dette gir 1\n",
    "heltall"
   ]
  },
  {
   "cell_type": "code",
   "execution_count": 44,
   "id": "1db3c008",
   "metadata": {},
   "outputs": [
    {
     "data": {
      "text/plain": [
       "'42'"
      ]
     },
     "execution_count": 44,
     "metadata": {},
     "output_type": "execute_result"
    }
   ],
   "source": [
    "heltall = 42\n",
    "streng = str(heltall)  # Dette gir '42'\n",
    "streng"
   ]
  },
  {
   "cell_type": "code",
   "execution_count": 45,
   "id": "d2bb0782",
   "metadata": {},
   "outputs": [],
   "source": [
    "flyttall = 3.14\n",
    "heltall = int(flyttall)  # Dette gir 3"
   ]
  },
  {
   "cell_type": "code",
   "execution_count": 46,
   "id": "50f5e399",
   "metadata": {},
   "outputs": [
    {
     "name": "stdout",
     "output_type": "stream",
     "text": [
      "Hei, jeg heter Alice og jeg er 25 år gammel.\n"
     ]
    }
   ],
   "source": [
    "# Eksempel\n",
    "navn = \"Alice\"\n",
    "alder = 25\n",
    "melding = f\"Hei, jeg heter {navn} og jeg er {alder} år gammel.\"\n",
    "print(melding)\n",
    "# Output: Hei, jeg heter Alice og jeg er 25 år gammel."
   ]
  },
  {
   "cell_type": "code",
   "execution_count": 47,
   "id": "9c941dd2",
   "metadata": {},
   "outputs": [],
   "source": [
    "x = 3.14  # 3.14\n",
    "y = 0.1   # 0.1"
   ]
  },
  {
   "cell_type": "code",
   "execution_count": 48,
   "id": "4d7c55a7",
   "metadata": {},
   "outputs": [],
   "source": [
    "a = 1e-2  # 1 * 10^-2, som er 0.01\n",
    "b = 2e+2  # 2 * 10^2, som er 200"
   ]
  },
  {
   "cell_type": "code",
   "execution_count": 49,
   "id": "89e6bfe7",
   "metadata": {},
   "outputs": [
    {
     "name": "stdout",
     "output_type": "stream",
     "text": [
      "0.30000000000000004\n"
     ]
    }
   ],
   "source": [
    "print(0.1 + 0.2)\n",
    "\n",
    "# Se på output av denne kodeblokken!"
   ]
  },
  {
   "cell_type": "code",
   "execution_count": 50,
   "id": "44717f57",
   "metadata": {},
   "outputs": [
    {
     "name": "stdout",
     "output_type": "stream",
     "text": [
      "0.3\n"
     ]
    }
   ],
   "source": [
    "print(round(0.1 + 0.2, 2)) # Runder av til 0.3"
   ]
  },
  {
   "cell_type": "code",
   "execution_count": 51,
   "id": "dc381579",
   "metadata": {},
   "outputs": [
    {
     "name": "stdout",
     "output_type": "stream",
     "text": [
      "100\n"
     ]
    }
   ],
   "source": [
    "resultat = 10 ** 2\n",
    "print(resultat)  # Output: 100"
   ]
  },
  {
   "cell_type": "code",
   "execution_count": 52,
   "id": "4a3ecac5",
   "metadata": {},
   "outputs": [
    {
     "name": "stdout",
     "output_type": "stream",
     "text": [
      "0.01\n"
     ]
    }
   ],
   "source": [
    "resultat = 10 ** -2\n",
    "print(resultat)"
   ]
  },
  {
   "cell_type": "code",
   "execution_count": 53,
   "id": "11fc165c",
   "metadata": {},
   "outputs": [
    {
     "name": "stdout",
     "output_type": "stream",
     "text": [
      "1000.0\n"
     ]
    }
   ],
   "source": [
    "resultat = 10e+2 # Det samme som 10 x 10^2\n",
    "print(resultat)"
   ]
  },
  {
   "cell_type": "code",
   "execution_count": 54,
   "id": "816fa962",
   "metadata": {},
   "outputs": [
    {
     "name": "stdout",
     "output_type": "stream",
     "text": [
      "Hei, jeg heter John, jeg er 30 år gammel, og jeg bor i Oslo.\n"
     ]
    }
   ],
   "source": [
    "# Definerer variablene med egne detaljer\n",
    "name = \"John\"\n",
    "age = 30\n",
    "city = \"Oslo\"\n",
    "\n",
    "# Bruker en f-string for å kombinere detaljene\n",
    "setning = f\"Hei, jeg heter {name}, jeg er {age} år gammel, og jeg bor i {city}.\"\n",
    "\n",
    "# Skriver ut setningen\n",
    "print(setning)"
   ]
  },
  {
   "cell_type": "code",
   "execution_count": 55,
   "id": "6027c260",
   "metadata": {},
   "outputs": [
    {
     "name": "stdout",
     "output_type": "stream",
     "text": [
      "Summen av 10 og 2 er: 12\n",
      "Differansen mellom 10 og 2 er: 8\n",
      "Produktet av 10 og 2 er: 20\n",
      "Forholdet av 10 og 2 er: 5.0\n",
      "10 hevet til 2 er: 100\n"
     ]
    }
   ],
   "source": [
    "# Definerer variablene\n",
    "x = 10\n",
    "y = 2\n",
    "\n",
    "# Beregner operasjonene\n",
    "sum_resultat = x + y\n",
    "differanse_resultat = x - y\n",
    "produkt_resultat = x * y\n",
    "forhold_resultat = x / y\n",
    "potens_resultat = x ** y\n",
    "\n",
    "# Skriver ut resultatene\n",
    "print(f\"Summen av {x} og {y} er: {sum_resultat}\")\n",
    "print(f\"Differansen mellom {x} og {y} er: {differanse_resultat}\")\n",
    "print(f\"Produktet av {x} og {y} er: {produkt_resultat}\")\n",
    "print(f\"Forholdet av {x} og {y} er: {forhold_resultat}\")\n",
    "print(f\"{x} hevet til {y} er: {potens_resultat}\")"
   ]
  },
  {
   "cell_type": "code",
   "execution_count": 56,
   "id": "323c9551",
   "metadata": {},
   "outputs": [
    {
     "name": "stdout",
     "output_type": "stream",
     "text": [
      "15 er et oddetall.\n"
     ]
    }
   ],
   "source": [
    "# Definerer tallet\n",
    "tall = 15\n",
    "\n",
    "# Sjekker om tallet er partall eller oddetall ved hjelp av modulo\n",
    "# modulo (%) sjekker om det er delelig på to (altså partall) eller ikke (altså oddetall)\n",
    "er_partall = (tall % 2 == 0)\n",
    "er_oddetall = (tall % 2 != 0)\n",
    "\n",
    "# Skriver ut resultatene\n",
    "if er_partall:\n",
    "    print(f\"{tall} er et partall.\")\n",
    "elif er_oddetall:\n",
    "    print(f\"{tall} er et oddetall.\")"
   ]
  },
  {
   "cell_type": "code",
   "execution_count": 57,
   "id": "dc5a8f03",
   "metadata": {},
   "outputs": [],
   "source": [
    "# Definerer variablene\n",
    "var_type = float  # Eksempel: ønsket datatype er float\n",
    "x = \"123.45\"  # Eksempel: verdien er en streng"
   ]
  },
  {
   "cell_type": "code",
   "execution_count": 58,
   "id": "cddd8169",
   "metadata": {},
   "outputs": [
    {
     "name": "stdout",
     "output_type": "stream",
     "text": [
      "Før konvertering: type(x) = <class 'str'>, verdi(x) = 123.45\n",
      "Etter konvertering: type(x) = <class 'float'>, verdi(x) = 123.45\n"
     ]
    }
   ],
   "source": [
    "# Skriv ut type og verdi før konvertering\n",
    "print(f\"Før konvertering: type(x) = {type(x)}, verdi(x) = {x}\")\n",
    "\n",
    "# Konverterer x til den angitte datatypen\n",
    "x = var_type(x)\n",
    "\n",
    "# Skriv ut type og verdi etter konvertering\n",
    "print(f\"Etter konvertering: type(x) = {type(x)}, verdi(x) = {x}\")"
   ]
  }
 ],
 "metadata": {
  "kernelspec": {
   "display_name": "Python 3",
   "language": "python",
   "name": "python3"
  },
  "language_info": {
   "codemirror_mode": {
    "name": "ipython",
    "version": 3
   },
   "file_extension": ".py",
   "mimetype": "text/x-python",
   "name": "python",
   "nbconvert_exporter": "python",
   "pygments_lexer": "ipython3",
   "version": "3.11.2"
  }
 },
 "nbformat": 4,
 "nbformat_minor": 5
}