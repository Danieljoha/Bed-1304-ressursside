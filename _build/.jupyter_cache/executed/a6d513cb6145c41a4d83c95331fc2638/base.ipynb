{
 "cells": [
  {
   "cell_type": "code",
   "execution_count": 1,
   "metadata": {
    "tags": []
   },
   "outputs": [
    {
     "name": "stdout",
     "output_type": "stream",
     "text": [
      "1\n",
      "2\n",
      "3\n",
      "4\n"
     ]
    }
   ],
   "source": [
    "for i in range(1, 5):\n",
    "    print(i)"
   ]
  },
  {
   "cell_type": "code",
   "execution_count": 2,
   "metadata": {},
   "outputs": [
    {
     "name": "stdout",
     "output_type": "stream",
     "text": [
      "Looking in links: c:\\Users\\Daniel\\AppData\\Local\\Temp\\tmp5qvx5roq\n",
      "Requirement already satisfied: setuptools in c:\\users\\daniel\\appdata\\local\\programs\\python\\python311\\lib\\site-packages (65.5.0)\n",
      "Requirement already satisfied: pip in c:\\users\\daniel\\appdata\\local\\programs\\python\\python311\\lib\\site-packages (25.2)\n"
     ]
    },
    {
     "name": "stdout",
     "output_type": "stream",
     "text": [
      "Requirement already satisfied: pip in c:\\users\\daniel\\appdata\\local\\programs\\python\\python311\\lib\\site-packages (25.2)\n",
      "Note: you may need to restart the kernel to use updated packages.\n"
     ]
    },
    {
     "name": "stdout",
     "output_type": "stream",
     "text": [
      "Requirement already satisfied: numpy in c:\\users\\daniel\\appdata\\local\\programs\\python\\python311\\lib\\site-packages (1.26.0)\n",
      "Note: you may need to restart the kernel to use updated packages.\n"
     ]
    }
   ],
   "source": [
    "import sys\n",
    "!{sys.executable} -m ensurepip --upgrade\n",
    "%pip install --upgrade pip\n",
    "%pip install numpy"
   ]
  },
  {
   "cell_type": "code",
   "execution_count": 3,
   "metadata": {},
   "outputs": [],
   "source": [
    "#!python -m ensurepip --upgrade"
   ]
  },
  {
   "cell_type": "code",
   "execution_count": null,
   "metadata": {},
   "outputs": [],
   "source": []
  },
  {
   "cell_type": "code",
   "execution_count": 4,
   "metadata": {},
   "outputs": [],
   "source": [
    "#!python3 -m ensurepip --upgrade"
   ]
  },
  {
   "cell_type": "code",
   "execution_count": 5,
   "metadata": {},
   "outputs": [],
   "source": [
    "# !curl https://bootstrap.pypa.io/get-pip.py -o get-pip.py\n",
    "# !python get-pip.py"
   ]
  },
  {
   "cell_type": "code",
   "execution_count": 6,
   "metadata": {},
   "outputs": [
    {
     "name": "stdout",
     "output_type": "stream",
     "text": [
      "Requirement already satisfied: numpy in c:\\users\\daniel\\appdata\\local\\programs\\python\\python311\\lib\\site-packages (1.26.0)\n",
      "Note: you may need to restart the kernel to use updated packages.\n"
     ]
    }
   ],
   "source": [
    "%pip install numpy"
   ]
  },
  {
   "cell_type": "code",
   "execution_count": 7,
   "metadata": {},
   "outputs": [],
   "source": [
    "#Evt denne dersom %pip ikke funker\n",
    "#!pip install numpy"
   ]
  },
  {
   "cell_type": "code",
   "execution_count": 8,
   "metadata": {},
   "outputs": [],
   "source": [
    "# Prøv å print din egen setning\n"
   ]
  },
  {
   "cell_type": "code",
   "execution_count": 9,
   "metadata": {},
   "outputs": [
    {
     "name": "stdout",
     "output_type": "stream",
     "text": [
      "6\n"
     ]
    }
   ],
   "source": [
    "# Prøv python som en kalkulator selv\n",
    "\n",
    "print(10 - 4)"
   ]
  },
  {
   "cell_type": "code",
   "execution_count": 10,
   "metadata": {},
   "outputs": [
    {
     "name": "stdout",
     "output_type": "stream",
     "text": [
      "8\n",
      "15\n",
      "125\n"
     ]
    }
   ],
   "source": [
    "# Prøv å lag ditt eget eksempel selv\n",
    "x = 5\n",
    "y = 3\n",
    "x_pluss_y = x + y\n",
    "x_ganger_y = x * y\n",
    "x_opphøyd_y = x ** y\n",
    "print(x_pluss_y)\n",
    "print(x_ganger_y)\n",
    "print(x_opphøyd_y)"
   ]
  },
  {
   "cell_type": "code",
   "execution_count": 11,
   "metadata": {},
   "outputs": [
    {
     "name": "stdout",
     "output_type": "stream",
     "text": [
      "x + y =  8\n",
      "x * y =  15\n",
      "x ** y =  125\n"
     ]
    }
   ],
   "source": [
    "print(\"x + y = \", x_pluss_y)\n",
    "print(\"x * y = \", x_ganger_y)\n",
    "print(\"x ** y = \", x_opphøyd_y)"
   ]
  },
  {
   "cell_type": "code",
   "execution_count": 12,
   "metadata": {},
   "outputs": [],
   "source": [
    "# Prøv selv da vel! :D\n"
   ]
  },
  {
   "cell_type": "code",
   "execution_count": 13,
   "metadata": {},
   "outputs": [],
   "source": [
    "# Prøv selv\n"
   ]
  },
  {
   "cell_type": "code",
   "execution_count": 14,
   "metadata": {},
   "outputs": [
    {
     "name": "stdout",
     "output_type": "stream",
     "text": [
      "8\n"
     ]
    }
   ],
   "source": [
    "# Prøv selv\n",
    "\n",
    "\n",
    "def tall_pluss_tall(tall1, tall2): #Vi regner ut summen av to tall\n",
    "    return tall1 + tall2\n",
    "\n",
    "print(tall_pluss_tall(3, 5))\n"
   ]
  },
  {
   "cell_type": "code",
   "execution_count": 15,
   "metadata": {},
   "outputs": [
    {
     "name": "stdout",
     "output_type": "stream",
     "text": [
      "510\n"
     ]
    }
   ],
   "source": [
    "def summen_av_hoyder(person1, person2, person3):\n",
    "    return person1 + person2 + person3\n",
    "print(summen_av_hoyder(170, 180, 160)) #Printer ut summen av høydene til 3 personer"
   ]
  },
  {
   "cell_type": "code",
   "execution_count": 16,
   "metadata": {},
   "outputs": [
    {
     "name": "stdout",
     "output_type": "stream",
     "text": [
      "Ved 3 personer så har vi total høyde:  510\n",
      "Ved 5 personer så har vi total høyde:  870\n"
     ]
    }
   ],
   "source": [
    "def hoyder_med_for_i(hoyder):\n",
    "    total = 0 #Dette er bare eksempel og vil først være relvant i senere kapittel \n",
    "    for i in range(len(hoyder)):\n",
    "        total += hoyder[i]\n",
    "    return total\n",
    "\n",
    "print(\"Ved 3 personer så har vi total høyde: \",hoyder_med_for_i([170, 180, 160]))\n",
    "print(\"Ved 5 personer så har vi total høyde: \",hoyder_med_for_i([170, 180, 160, 175, 185])) #her legger vi til 2 til"
   ]
  }
 ],
 "metadata": {
  "kernelspec": {
   "display_name": "Python 3",
   "language": "python",
   "name": "python3"
  },
  "language_info": {
   "codemirror_mode": {
    "name": "ipython",
    "version": 3
   },
   "file_extension": ".py",
   "mimetype": "text/x-python",
   "name": "python",
   "nbconvert_exporter": "python",
   "pygments_lexer": "ipython3",
   "version": "3.11.2"
  }
 },
 "nbformat": 4,
 "nbformat_minor": 4
}