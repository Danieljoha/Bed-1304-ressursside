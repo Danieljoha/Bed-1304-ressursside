{
 "cells": [
  {
   "cell_type": "code",
   "execution_count": 1,
   "metadata": {},
   "outputs": [
    {
     "name": "stdout",
     "output_type": "stream",
     "text": [
      "Du får 10% rabatt! Ny pris: 1350.00 kr\n"
     ]
    }
   ],
   "source": [
    "# Brukerens kjøpsbeløp\n",
    "totalpris = 1500\n",
    "\n",
    "# Sjekk om rabatt gjelder\n",
    "if totalpris > 1000:\n",
    "    ny_pris = totalpris * 0.9  # 10% rabatt\n",
    "    print(f\"Du får 10% rabatt! Ny pris: {ny_pris:.2f} kr\")\n",
    "else:\n",
    "    print(f\"Ingen rabatt gitt. Totalpris: {totalpris:.2f} kr\")\n"
   ]
  },
  {
   "cell_type": "code",
   "execution_count": 2,
   "metadata": {},
   "outputs": [
    {
     "name": "stdout",
     "output_type": "stream",
     "text": [
      "Lån innvilget!\n"
     ]
    }
   ],
   "source": [
    "# Kundeinformasjon\n",
    "inntekt = 510000                # Eksempel-lønn\n",
    "betalingsanmerkning = \"nei\"     # \"nei\" eller \"ja\"\n",
    "\n",
    "# Sjekk lånekriterier\n",
    "if inntekt >= 300000 and betalingsanmerkning == \"nei\":\n",
    "    print(\"Lån innvilget!\")\n",
    "else:\n",
    "    print(\"Beklager, du oppfyller ikke kravene for lån.\")\n"
   ]
  },
  {
   "cell_type": "code",
   "execution_count": 3,
   "metadata": {},
   "outputs": [
    {
     "name": "stdout",
     "output_type": "stream",
     "text": [
      "Etter 1 år: 12240.00 kr\n",
      "Etter 2 år: 24724.80 kr\n",
      "Etter 3 år: 37459.30 kr\n",
      "Etter 4 år: 50448.48 kr\n",
      "Etter 5 år: 63697.45 kr\n"
     ]
    }
   ],
   "source": [
    "# Startverdier\n",
    "månedlig_sparing = 1000\n",
    "rente = 0.02  # 2% årlig rente\n",
    "år = 5        # 5 år med sparing\n",
    "saldo = 0     # Starter med 0 kronasjer\n",
    "\n",
    "# Løkke for å beregne saldo over flere år\n",
    "for i in range(1, år + 1):\n",
    "    saldo += månedlig_sparing * 12          # Legg til sparing for året\n",
    "    saldo *= (1 + rente)                    # Legg til årlig rente, på slutten av året.\n",
    "    print(f\"Etter {i} år: {saldo:.2f} kr\")  # Print resultatet, med avrundede verdier"
   ]
  },
  {
   "cell_type": "code",
   "execution_count": 4,
   "metadata": {},
   "outputs": [
    {
     "name": "stdout",
     "output_type": "stream",
     "text": [
      "Du må betale 210000.00 kr i skatt.\n"
     ]
    }
   ],
   "source": [
    "# Brukerinput\n",
    "inntekt = 600000\n",
    "\n",
    "# Beregn skatt basert på inntekten\n",
    "if inntekt < 200000:\n",
    "    skatt = 0\n",
    "elif inntekt <= 500000:\n",
    "    skatt = inntekt * 0.20\n",
    "else:\n",
    "    skatt = inntekt * 0.35\n",
    "\n",
    "print(f\"Du må betale {skatt:.2f} kr i skatt.\")"
   ]
  },
  {
   "cell_type": "code",
   "execution_count": 5,
   "metadata": {},
   "outputs": [
    {
     "name": "stdout",
     "output_type": "stream",
     "text": [
      "År 1: 10500.00 kr\n",
      "År 2: 11025.00 kr\n",
      "År 3: 11576.25 kr\n",
      "År 4: 12155.06 kr\n",
      "År 5: 12762.82 kr\n"
     ]
    }
   ],
   "source": [
    "# Startverdi\n",
    "lån = 10000\n",
    "rente = 0.05\n",
    "\n",
    "# Løkke for å beregne lån over 5 år\n",
    "for år in range(1, 6):\n",
    "    lån *= (1 + rente)\n",
    "    print(f\"År {år}: {lån:.2f} kr\")"
   ]
  },
  {
   "cell_type": "code",
   "execution_count": 6,
   "metadata": {},
   "outputs": [
    {
     "name": "stdout",
     "output_type": "stream",
     "text": [
      "Etter 56 måneder har du spart opp 50400 kr!\n"
     ]
    }
   ],
   "source": [
    "# Startverdi\n",
    "saldo = 0\n",
    "månedlig_sparing = 900\n",
    "mål = 50000\n",
    "måneder = 0\n",
    "\n",
    "# While-løkke for å beregne sparing\n",
    "while saldo < mål:\n",
    "    saldo += månedlig_sparing\n",
    "    måneder += 1\n",
    "\n",
    "print(f\"Etter {måneder} måneder har du spart opp {saldo} kr!\")"
   ]
  },
  {
   "cell_type": "code",
   "execution_count": 7,
   "metadata": {},
   "outputs": [
    {
     "name": "stdout",
     "output_type": "stream",
     "text": [
      "Antall måneder over budsjettet: 3\n"
     ]
    }
   ],
   "source": [
    "# Liste med utgifter\n",
    "utgifter = [12000, 8500, 10000, 13000, 7500, 11000]\n",
    "grense = 10000\n",
    "over_budsjett = 0\n",
    "\n",
    "# Løkke for å telle måneder over budsjett\n",
    "for utgift in utgifter:\n",
    "    if utgift > grense:\n",
    "        over_budsjett += 1\n",
    "\n",
    "print(f\"Antall måneder over budsjettet: {over_budsjett}\")"
   ]
  },
  {
   "cell_type": "code",
   "execution_count": 8,
   "metadata": {},
   "outputs": [
    {
     "ename": "StdinNotImplementedError",
     "evalue": "raw_input was called, but this frontend does not support input requests.",
     "output_type": "error",
     "traceback": [
      "\u001b[1;31m---------------------------------------------------------------------------\u001b[0m",
      "\u001b[1;31mStdinNotImplementedError\u001b[0m                  Traceback (most recent call last)",
      "Cell \u001b[1;32mIn[8], line 28\u001b[0m\n\u001b[0;32m     25\u001b[0m     \u001b[38;5;28mprint\u001b[39m(\u001b[38;5;124mf\u001b[39m\u001b[38;5;124m\"\u001b[39m\u001b[38;5;124mGratulerer! Du har nådd sparemålet på \u001b[39m\u001b[38;5;132;01m{\u001b[39;00msparemål\u001b[38;5;132;01m}\u001b[39;00m\u001b[38;5;124m kr etter \u001b[39m\u001b[38;5;132;01m{\u001b[39;00mmåneder\u001b[38;5;132;01m}\u001b[39;00m\u001b[38;5;124m måneder!\u001b[39m\u001b[38;5;124m\"\u001b[39m)\n\u001b[0;32m     27\u001b[0m \u001b[38;5;66;03m# Kjør funksjonenen vi har lagd\u001b[39;00m\n\u001b[1;32m---> 28\u001b[0m \u001b[43msparing\u001b[49m\u001b[43m(\u001b[49m\u001b[43m)\u001b[49m\n",
      "Cell \u001b[1;32mIn[8], line 8\u001b[0m, in \u001b[0;36msparing\u001b[1;34m()\u001b[0m\n\u001b[0;32m      5\u001b[0m måneder \u001b[38;5;241m=\u001b[39m \u001b[38;5;241m0\u001b[39m             \u001b[38;5;66;03m# må initieres med \"0\"\u001b[39;00m\n\u001b[0;32m      7\u001b[0m \u001b[38;5;66;03m# Brukerinput: månedlig sparing - input vil komme opp øverst på skjermen\u001b[39;00m\n\u001b[1;32m----> 8\u001b[0m månedlig_sparing \u001b[38;5;241m=\u001b[39m \u001b[38;5;28mfloat\u001b[39m(\u001b[38;5;28;43minput\u001b[39;49m\u001b[43m(\u001b[49m\u001b[38;5;124;43m\"\u001b[39;49m\u001b[38;5;124;43mHvor mye vil du spare per måned? \u001b[39;49m\u001b[38;5;124;43m\"\u001b[39;49m\u001b[43m)\u001b[49m)\n\u001b[0;32m     10\u001b[0m \u001b[38;5;66;03m# While-løkke for å beregne sparing hvor mye penger spart\u001b[39;00m\n\u001b[0;32m     11\u001b[0m \u001b[38;5;28;01mwhile\u001b[39;00m saldo \u001b[38;5;241m<\u001b[39m sparemål:\n",
      "File \u001b[1;32m~\\AppData\\Roaming\\Python\\Python311\\site-packages\\ipykernel\\kernelbase.py:1190\u001b[0m, in \u001b[0;36mKernel.raw_input\u001b[1;34m(self, prompt)\u001b[0m\n\u001b[0;32m   1188\u001b[0m \u001b[38;5;28;01mif\u001b[39;00m \u001b[38;5;129;01mnot\u001b[39;00m \u001b[38;5;28mself\u001b[39m\u001b[38;5;241m.\u001b[39m_allow_stdin:\n\u001b[0;32m   1189\u001b[0m     msg \u001b[38;5;241m=\u001b[39m \u001b[38;5;124m\"\u001b[39m\u001b[38;5;124mraw_input was called, but this frontend does not support input requests.\u001b[39m\u001b[38;5;124m\"\u001b[39m\n\u001b[1;32m-> 1190\u001b[0m     \u001b[38;5;28;01mraise\u001b[39;00m StdinNotImplementedError(msg)\n\u001b[0;32m   1191\u001b[0m \u001b[38;5;28;01mreturn\u001b[39;00m \u001b[38;5;28mself\u001b[39m\u001b[38;5;241m.\u001b[39m_input_request(\n\u001b[0;32m   1192\u001b[0m     \u001b[38;5;28mstr\u001b[39m(prompt),\n\u001b[0;32m   1193\u001b[0m     \u001b[38;5;28mself\u001b[39m\u001b[38;5;241m.\u001b[39m_parent_ident[\u001b[38;5;124m\"\u001b[39m\u001b[38;5;124mshell\u001b[39m\u001b[38;5;124m\"\u001b[39m],\n\u001b[0;32m   1194\u001b[0m     \u001b[38;5;28mself\u001b[39m\u001b[38;5;241m.\u001b[39mget_parent(\u001b[38;5;124m\"\u001b[39m\u001b[38;5;124mshell\u001b[39m\u001b[38;5;124m\"\u001b[39m),\n\u001b[0;32m   1195\u001b[0m     password\u001b[38;5;241m=\u001b[39m\u001b[38;5;28;01mFalse\u001b[39;00m,\n\u001b[0;32m   1196\u001b[0m )\n",
      "\u001b[1;31mStdinNotImplementedError\u001b[0m: raw_input was called, but this frontend does not support input requests."
     ]
    }
   ],
   "source": [
    "def sparing():\n",
    "    # Sparemål og startverdi\n",
    "    sparemål = 100000       # Sparemål fra oppgavetekst\n",
    "    saldo = 0               # må initieres med \"0\"\n",
    "    måneder = 0             # må initieres med \"0\"\n",
    "\n",
    "    # Brukerinput: månedlig sparing - input vil komme opp øverst på skjermen\n",
    "    månedlig_sparing = float(input(\"Hvor mye vil du spare per måned? \"))\n",
    "\n",
    "    # While-løkke for å beregne sparing hvor mye penger spart\n",
    "    while saldo < sparemål:\n",
    "        måneder += 1\n",
    "        saldo += månedlig_sparing\n",
    "\n",
    "        # If/elif/else for statusmeldinger underveis i spareprosessen :)\n",
    "        if saldo >= 100000:\n",
    "            print(f\"Måned {måneder}: Du har spart {saldo:.2f} kr! Målet er nådd!\")\n",
    "        elif saldo >= 50000:\n",
    "            print(f\"Måned {måneder}: Du har spart {saldo:.2f} kr! Halvveis der!\")\n",
    "        elif saldo >= 25000:\n",
    "            print(f\"Måned {måneder}: Du har spart {saldo:.2f} kr! God start!\")\n",
    "        else:\n",
    "            print(f\"Måned {måneder}: Sparte {månedlig_sparing} kr, saldo: {saldo:.2f} kr\")\n",
    "\n",
    "    print(f\"Gratulerer! Du har nådd sparemålet på {sparemål} kr etter {måneder} måneder!\")\n",
    "\n",
    "# Kjør funksjonenen vi har lagd\n",
    "sparing()"
   ]
  },
  {
   "cell_type": "code",
   "execution_count": null,
   "metadata": {},
   "outputs": [],
   "source": []
  }
 ],
 "metadata": {
  "kernelspec": {
   "display_name": "myenv",
   "language": "python",
   "name": "python3"
  },
  "language_info": {
   "codemirror_mode": {
    "name": "ipython",
    "version": 3
   },
   "file_extension": ".py",
   "mimetype": "text/x-python",
   "name": "python",
   "nbconvert_exporter": "python",
   "pygments_lexer": "ipython3",
   "version": "3.11.2"
  }
 },
 "nbformat": 4,
 "nbformat_minor": 2
}