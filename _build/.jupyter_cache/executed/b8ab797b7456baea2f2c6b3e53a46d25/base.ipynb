{
 "cells": [
  {
   "cell_type": "code",
   "execution_count": 1,
   "metadata": {},
   "outputs": [
    {
     "name": "stdout",
     "output_type": "stream",
     "text": [
      "Nåverdien av 10000 kr om 5 år med 5.0% rente er: 7835.26 kr\n"
     ]
    }
   ],
   "source": [
    "# Løsningsforslag 1a\n",
    "\n",
    "def present_value(fv, r, n):\n",
    "    pv = fv / (1 + r) ** n\n",
    "    return pv\n",
    "\n",
    "# Test av funksjonen med noen eksempler\n",
    "fremtidig_verdi = 10000  # 10 000 kr\n",
    "rente = 0.05  # 5% rente per år\n",
    "antall_år = 5  # 5 år\n",
    "\n",
    "resultat = present_value(fremtidig_verdi, rente, antall_år)\n",
    "print(f\"Nåverdien av {fremtidig_verdi} kr om {antall_år} år med {rente*100}% rente er: {resultat:.2f} kr\")\n"
   ]
  },
  {
   "cell_type": "code",
   "execution_count": 2,
   "metadata": {},
   "outputs": [
    {
     "name": "stdout",
     "output_type": "stream",
     "text": [
      "Avkastning på investering: 50.00%\n"
     ]
    }
   ],
   "source": [
    "# Løsningsforslag 1b\n",
    "\n",
    "def roi(gain, cost):\n",
    "    return (gain - cost) / cost\n",
    "\n",
    "# Test funksjonen med et eksempel\n",
    "gain = 15000  # Gevinst fra investering\n",
    "cost = 10000  # Kostnad ved investering\n",
    "\n",
    "roi_value = roi(gain, cost)\n",
    "print(f\"Avkastning på investering: {roi_value:.2%}\")"
   ]
  },
  {
   "cell_type": "code",
   "execution_count": 3,
   "metadata": {},
   "outputs": [
    {
     "name": "stdout",
     "output_type": "stream",
     "text": [
      "Gjennomsnittlig årlig avkastning (CAGR): 8.447%\n"
     ]
    }
   ],
   "source": [
    "# Løsningsforslag 1c\n",
    "\n",
    "def cagr(ev, bv, n):\n",
    "    return (ev / bv)**(1 / n) - 1\n",
    "\n",
    "# Test funksjonen med et eksempel\n",
    "ev = 15000  # Sluttverdi\n",
    "bv = 10000  # Startverdi\n",
    "n = 5       # Antall år\n",
    "\n",
    "cagr_value = cagr(ev, bv, n)\n",
    "print(f\"Gjennomsnittlig årlig avkastning (CAGR): {cagr_value:.3%}\")"
   ]
  },
  {
   "cell_type": "code",
   "execution_count": 4,
   "metadata": {},
   "outputs": [
    {
     "data": {
      "text/plain": [
       "[36, 28, 30, 12, 1, 20, 28, 24, 24, 35, 11, 6, 8, 12, 8]"
      ]
     },
     "execution_count": 4,
     "metadata": {},
     "output_type": "execute_result"
    }
   ],
   "source": [
    "# Oppgave 2a løsningsforslag\n",
    "\n",
    "import random\n",
    "\n",
    "def generate_random_list(n, k):\n",
    "    random_list = []                                # Definerer en tom liste\n",
    "    for i in range(1, n+1):                         # Lager en liste av lengde n, slik oppgaven ba om\n",
    "        random_list.append(random.randint(1, k))    # Bruker innebygde funksjonen 'append' til å legge til et tilfeldig tall mellom 1 og k. Bruker også random biblioteket.\n",
    "    \n",
    "    return random_list\n",
    "\n",
    "generate_random_list(15, 50) # Teste funksjonen for n = 15 og k = 50"
   ]
  },
  {
   "cell_type": "code",
   "execution_count": 5,
   "metadata": {},
   "outputs": [
    {
     "data": {
      "text/plain": [
       "[41, 37, 30, 43, 42, 27, 38, 38, 39, 42]"
      ]
     },
     "execution_count": 5,
     "metadata": {},
     "output_type": "execute_result"
    }
   ],
   "source": [
    "# Oppgave 2b løsningsforslag\n",
    "\n",
    "def bigger_or_not(b, n, k):\n",
    "    random_list = generate_random_list(n, k)   # Bruker funksjonen fra forrige oppgave til å generer en liste med tilfeldige tall.\n",
    "    new_list = []                              # Ny, tom liste.\n",
    "    for i in random_list:                      # for-løkk\n",
    "        if i >= b:                             # Sjekker om i er større eller lik b\n",
    "            new_list.append(i)\n",
    "    return new_list\n",
    "\n",
    "bigger_or_not(25, 15, 50) # Eksempel-test - sjekker om n = 15 tilfeldige verdier mellom 1 og k = 50, er større eller lik 25."
   ]
  },
  {
   "cell_type": "code",
   "execution_count": 6,
   "metadata": {},
   "outputs": [
    {
     "name": "stdout",
     "output_type": "stream",
     "text": [
      "Bruker vi 0.5 timer per konsultasjon - legen kan ta 15 pasienter per dag. \n",
      "\n",
      "Det tar 6.67 dager å fullføre konsultasjon for 100 pasienter.\n",
      "Legen kan se 75 patienter på en uke med 5 arbeidsdager.\n"
     ]
    }
   ],
   "source": [
    "# Løsningsforslag 3a\n",
    "\n",
    "number_of_patients = 100  # Antall pasienter som skal behandles\n",
    "consultation_time = 0.5   # Konsultasjonstid per pasient i timer\n",
    "hours_per_day = 7.5       # Antall arbeidstimer per dag\n",
    "days_per_week = 5         # Antall arbeidsdager i uken\n",
    "\n",
    "def consultation_schedule(number_of_patients, consultation_time, hours_per_day, days_per_week):\n",
    "    # Beregn hvor mange pasienter legen kan se per dag\n",
    "    patients_per_day = int(hours_per_day / consultation_time)\n",
    "    print(f'Bruker vi {consultation_time} timer per konsultasjon - legen kan ta {patients_per_day} pasienter per dag. \\n')\n",
    "\n",
    "    # Beregn hvor mange dager det tar å behandle alle pasientene\n",
    "    days_to_complete = float(round(number_of_patients / patients_per_day, 2))\n",
    "    print(f'Det tar {days_to_complete} dager å fullføre konsultasjon for {number_of_patients} pasienter.')\n",
    "\n",
    "    # Beregn hvor mange pasienter legen kan se på en uke\n",
    "    patients_per_week = patients_per_day * days_per_week\n",
    "    print(f'Legen kan se {patients_per_week} patienter på en uke med {days_per_week} arbeidsdager.')\n",
    "\n",
    "# Test funksjonen\n",
    "consultation_schedule(number_of_patients, consultation_time, hours_per_day, days_per_week)\n"
   ]
  },
  {
   "cell_type": "code",
   "execution_count": 7,
   "metadata": {},
   "outputs": [
    {
     "name": "stdout",
     "output_type": "stream",
     "text": [
      "Med 40% sykemelding, kan legen se 9 pasienter per dag. \n",
      "\n",
      "Det vil ta 11 dager å fullføre konsultasjon for 100 pasienter.\n",
      "Legen kan se 45 pasienter i løpet av en uke med 5 arbeidsdager.\n"
     ]
    }
   ],
   "source": [
    "number_of_patients = 100  # Antall pasienter som skal behandles\n",
    "consultation_time = 0.5  # Konsultasjonstid per pasient i timer\n",
    "hours_per_day = 7.5  # Antall arbeidstimer per dag\n",
    "days_per_week = 5  # Antall arbeidsdager i uken\n",
    "percent_sickleave = 40  # Sykemeldingsprosent (f.eks. 40%)\n",
    "\n",
    "def consultation_schedule(number_of_patients, consultation_time, hours_per_day, days_per_week, percent_sickleave):\n",
    "    # Juster arbeidstiden basert på sykemeldingsprosent\n",
    "    effective_hours_per_day = hours_per_day * (1 - percent_sickleave / 100)\n",
    "    \n",
    "    # Beregn hvor mange pasienter legen kan se per dag\n",
    "    patients_per_day = int(effective_hours_per_day / consultation_time)\n",
    "    print(f'Med {percent_sickleave}% sykemelding, kan legen se {patients_per_day} pasienter per dag. \\n')\n",
    "\n",
    "    # Beregn hvor mange dager det tar å behandle alle pasientene\n",
    "    days_to_complete = int(number_of_patients / patients_per_day)\n",
    "    print(f'Det vil ta {days_to_complete} dager å fullføre konsultasjon for {number_of_patients} pasienter.')\n",
    "\n",
    "    # Beregn hvor mange pasienter legen kan se på en uke\n",
    "    patients_per_week = patients_per_day * days_per_week\n",
    "    print(f'Legen kan se {patients_per_week} pasienter i løpet av en uke med {days_per_week} arbeidsdager.')\n",
    "\n",
    "# Test funksjonen med sykefravær\n",
    "consultation_schedule(number_of_patients, consultation_time, hours_per_day, days_per_week, percent_sickleave)\n"
   ]
  },
  {
   "cell_type": "code",
   "execution_count": null,
   "metadata": {},
   "outputs": [],
   "source": []
  }
 ],
 "metadata": {
  "kernelspec": {
   "display_name": "Python (myenv)",
   "language": "python",
   "name": "python3"
  },
  "language_info": {
   "codemirror_mode": {
    "name": "ipython",
    "version": 3
   },
   "file_extension": ".py",
   "mimetype": "text/x-python",
   "name": "python",
   "nbconvert_exporter": "python",
   "pygments_lexer": "ipython3",
   "version": "3.11.2"
  }
 },
 "nbformat": 4,
 "nbformat_minor": 2
}