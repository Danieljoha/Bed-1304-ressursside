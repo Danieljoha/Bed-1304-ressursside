{
 "cells": [
  {
   "cell_type": "code",
   "execution_count": 1,
   "id": "30c3ab6e",
   "metadata": {},
   "outputs": [],
   "source": [
    "equinor=['Statoil', 'EQNR', 167.554919090282, 376883380048.5, 6.14609823076753, 0.617893838660362]\n",
    "dnb=['DNB', 'DNB', 164, 259169427140, 11.1121822724349, 0.914999939276725]\n",
    "telenor=['Telenor', 'TEL', 148.737572948101, 227115017138.4, 13.0211568133471, 0.715300723576896]\n",
    "marine_harvest=['Marine Harvest', 'MHG', 225.589705235372, 118004750966.2, 21.6878893009616, 0.440427599611273]\n",
    "aker_bp=['Aker BP', 'AKERBP', 272.499264741749, 103712690592, 26.7636558040214, 0.722568840028356]\n",
    "yara_international=['Yara International', 'YAR', 333.328922090651, 99481443032.4, 86.741957363663, 0.465057636887608]\n",
    "gjensidige_forsikring=['Gjensidige Forsikring', 'GJF', 172.830508474576, 92125000000, 24.9404407385348, 0.847890127134592]"
   ]
  },
  {
   "cell_type": "code",
   "execution_count": 2,
   "id": "b4e3cee7",
   "metadata": {},
   "outputs": [
    {
     "data": {
      "text/plain": [
       "'Statoil'"
      ]
     },
     "execution_count": 2,
     "metadata": {},
     "output_type": "execute_result"
    }
   ],
   "source": [
    "equinor[0]"
   ]
  },
  {
   "cell_type": "code",
   "execution_count": 3,
   "id": "18aac901",
   "metadata": {},
   "outputs": [
    {
     "data": {
      "text/plain": [
       "str"
      ]
     },
     "execution_count": 3,
     "metadata": {},
     "output_type": "execute_result"
    }
   ],
   "source": [
    "type(equinor[0])"
   ]
  },
  {
   "cell_type": "code",
   "execution_count": 4,
   "id": "def5457c",
   "metadata": {},
   "outputs": [
    {
     "data": {
      "text/plain": [
       "'EQNR'"
      ]
     },
     "execution_count": 4,
     "metadata": {},
     "output_type": "execute_result"
    }
   ],
   "source": [
    "equinor[1]"
   ]
  },
  {
   "cell_type": "code",
   "execution_count": 5,
   "id": "852eda89",
   "metadata": {},
   "outputs": [
    {
     "data": {
      "text/plain": [
       "6"
      ]
     },
     "execution_count": 5,
     "metadata": {},
     "output_type": "execute_result"
    }
   ],
   "source": [
    "len(equinor)"
   ]
  },
  {
   "cell_type": "code",
   "execution_count": 6,
   "id": "642a2acf",
   "metadata": {},
   "outputs": [
    {
     "data": {
      "text/plain": [
       "6.14609823076753"
      ]
     },
     "execution_count": 6,
     "metadata": {},
     "output_type": "execute_result"
    }
   ],
   "source": [
    "equinor[-2]"
   ]
  },
  {
   "cell_type": "code",
   "execution_count": 7,
   "id": "6b78f5ea",
   "metadata": {},
   "outputs": [
    {
     "name": "stdout",
     "output_type": "stream",
     "text": [
      "['Statoil', 'EQNR', 167.554919090282, 376883380048.5, 6.14609823076753, 0.617893838660362]\n",
      "['Equinor', 'EQNR', 167.554919090282, 376883380048.5, 6.14609823076753, 0.617893838660362]\n"
     ]
    }
   ],
   "source": [
    "print(equinor)\n",
    "equinor[0]='Equinor'\n",
    "print(equinor)"
   ]
  },
  {
   "cell_type": "code",
   "execution_count": 8,
   "id": "c89b4076",
   "metadata": {},
   "outputs": [
    {
     "data": {
      "text/plain": [
       "[['Equinor',\n",
       "  'EQNR',\n",
       "  167.554919090282,\n",
       "  376883380048.5,\n",
       "  6.14609823076753,\n",
       "  0.617893838660362],\n",
       " ['DNB', 'DNB', 164, 259169427140, 11.1121822724349, 0.914999939276725],\n",
       " ['Telenor',\n",
       "  'TEL',\n",
       "  148.737572948101,\n",
       "  227115017138.4,\n",
       "  13.0211568133471,\n",
       "  0.715300723576896],\n",
       " ['Marine Harvest',\n",
       "  'MHG',\n",
       "  225.589705235372,\n",
       "  118004750966.2,\n",
       "  21.6878893009616,\n",
       "  0.440427599611273],\n",
       " ['Aker BP',\n",
       "  'AKERBP',\n",
       "  272.499264741749,\n",
       "  103712690592,\n",
       "  26.7636558040214,\n",
       "  0.722568840028356],\n",
       " ['Yara International',\n",
       "  'YAR',\n",
       "  333.328922090651,\n",
       "  99481443032.4,\n",
       "  86.741957363663,\n",
       "  0.465057636887608],\n",
       " ['Gjensidige Forsikring',\n",
       "  'GJF',\n",
       "  172.830508474576,\n",
       "  92125000000,\n",
       "  24.9404407385348,\n",
       "  0.847890127134592]]"
      ]
     },
     "execution_count": 8,
     "metadata": {},
     "output_type": "execute_result"
    }
   ],
   "source": [
    "stocks=[equinor,dnb,telenor,marine_harvest,aker_bp,yara_international,gjensidige_forsikring]\n",
    "stocks"
   ]
  },
  {
   "cell_type": "code",
   "execution_count": 9,
   "id": "7e488e0c",
   "metadata": {},
   "outputs": [
    {
     "data": {
      "text/plain": [
       "'Aker BP'"
      ]
     },
     "execution_count": 9,
     "metadata": {},
     "output_type": "execute_result"
    }
   ],
   "source": [
    "stocks[4][0]"
   ]
  },
  {
   "cell_type": "code",
   "execution_count": 10,
   "id": "66c16a31",
   "metadata": {},
   "outputs": [
    {
     "data": {
      "text/plain": [
       "['Aker BP',\n",
       " 'AKERBP',\n",
       " 272.499264741749,\n",
       " 103712690592,\n",
       " 26.7636558040214,\n",
       " 0.722568840028356]"
      ]
     },
     "execution_count": 10,
     "metadata": {},
     "output_type": "execute_result"
    }
   ],
   "source": [
    "stocks[4]"
   ]
  },
  {
   "cell_type": "code",
   "execution_count": 11,
   "id": "b1ad526e",
   "metadata": {
    "scrolled": true
   },
   "outputs": [
    {
     "name": "stdout",
     "output_type": "stream",
     "text": [
      "['Gjensidige Forsikring', 'GJF', 172.830508474576, 92125000000, 24.9404407385348, 0.847890127134592]\n",
      "['Yara International', 'YAR', 333.328922090651, 99481443032.4, 86.741957363663, 0.465057636887608]\n"
     ]
    }
   ],
   "source": [
    "print(stocks[-1])\n",
    "print(stocks[-2])"
   ]
  },
  {
   "cell_type": "code",
   "execution_count": 12,
   "id": "8d5071ce",
   "metadata": {},
   "outputs": [
    {
     "data": {
      "text/plain": [
       "[['Equinor',\n",
       "  'EQNR',\n",
       "  167.554919090282,\n",
       "  376883380048.5,\n",
       "  6.14609823076753,\n",
       "  0.617893838660362],\n",
       " ['DNB', 'DNB', 164, 259169427140, 11.1121822724349, 0.914999939276725],\n",
       " ['Telenor',\n",
       "  'TEL',\n",
       "  148.737572948101,\n",
       "  227115017138.4,\n",
       "  13.0211568133471,\n",
       "  0.715300723576896],\n",
       " ['Marine Harvest',\n",
       "  'MHG',\n",
       "  225.589705235372,\n",
       "  118004750966.2,\n",
       "  21.6878893009616,\n",
       "  0.440427599611273],\n",
       " ['Aker BP',\n",
       "  'AKERBP',\n",
       "  272.499264741749,\n",
       "  103712690592,\n",
       "  26.7636558040214,\n",
       "  0.722568840028356],\n",
       " ['Yara International',\n",
       "  'YAR',\n",
       "  333.328922090651,\n",
       "  99481443032.4,\n",
       "  86.741957363663,\n",
       "  0.465057636887608],\n",
       " ['Gjensidige Forsikring',\n",
       "  'GJF',\n",
       "  172.830508474576,\n",
       "  92125000000,\n",
       "  24.9404407385348,\n",
       "  0.847890127134592]]"
      ]
     },
     "execution_count": 12,
     "metadata": {},
     "output_type": "execute_result"
    }
   ],
   "source": [
    "stocks"
   ]
  },
  {
   "cell_type": "code",
   "execution_count": 13,
   "id": "e8ab1505",
   "metadata": {},
   "outputs": [
    {
     "data": {
      "text/plain": [
       "[['Telenor',\n",
       "  'TEL',\n",
       "  148.737572948101,\n",
       "  227115017138.4,\n",
       "  13.0211568133471,\n",
       "  0.715300723576896],\n",
       " ['Marine Harvest',\n",
       "  'MHG',\n",
       "  225.589705235372,\n",
       "  118004750966.2,\n",
       "  21.6878893009616,\n",
       "  0.440427599611273]]"
      ]
     },
     "execution_count": 13,
     "metadata": {},
     "output_type": "execute_result"
    }
   ],
   "source": [
    "# Fra element to til og med tre:\n",
    "stocks[2:4]"
   ]
  },
  {
   "cell_type": "code",
   "execution_count": 14,
   "id": "cf72dd68",
   "metadata": {},
   "outputs": [
    {
     "data": {
      "text/plain": [
       "[['Yara International',\n",
       "  'YAR',\n",
       "  333.328922090651,\n",
       "  99481443032.4,\n",
       "  86.741957363663,\n",
       "  0.465057636887608],\n",
       " ['Gjensidige Forsikring',\n",
       "  'GJF',\n",
       "  172.830508474576,\n",
       "  92125000000,\n",
       "  24.9404407385348,\n",
       "  0.847890127134592]]"
      ]
     },
     "execution_count": 14,
     "metadata": {},
     "output_type": "execute_result"
    }
   ],
   "source": [
    "# Fra og med nest siste element:\n",
    "stocks[-2:]"
   ]
  },
  {
   "cell_type": "code",
   "execution_count": 15,
   "id": "bce6ae26",
   "metadata": {},
   "outputs": [
    {
     "data": {
      "text/plain": [
       "['Yara International',\n",
       " 'YAR',\n",
       " 333.328922090651,\n",
       " 99481443032.4,\n",
       " 86.741957363663,\n",
       " 0.465057636887608]"
      ]
     },
     "execution_count": 15,
     "metadata": {},
     "output_type": "execute_result"
    }
   ],
   "source": [
    "stocks[-2]"
   ]
  },
  {
   "cell_type": "code",
   "execution_count": 16,
   "id": "d1e3cd89",
   "metadata": {},
   "outputs": [
    {
     "data": {
      "text/plain": [
       "[['Equinor',\n",
       "  'EQNR',\n",
       "  167.554919090282,\n",
       "  376883380048.5,\n",
       "  6.14609823076753,\n",
       "  0.617893838660362],\n",
       " ['DNB', 'DNB', 164, 259169427140, 11.1121822724349, 0.914999939276725],\n",
       " ['Telenor',\n",
       "  'TEL',\n",
       "  148.737572948101,\n",
       "  227115017138.4,\n",
       "  13.0211568133471,\n",
       "  0.715300723576896],\n",
       " ['Marine Harvest',\n",
       "  'MHG',\n",
       "  225.589705235372,\n",
       "  118004750966.2,\n",
       "  21.6878893009616,\n",
       "  0.440427599611273],\n",
       " ['Aker BP',\n",
       "  'AKERBP',\n",
       "  272.499264741749,\n",
       "  103712690592,\n",
       "  26.7636558040214,\n",
       "  0.722568840028356],\n",
       " ['Yara International',\n",
       "  'YAR',\n",
       "  333.328922090651,\n",
       "  99481443032.4,\n",
       "  86.741957363663,\n",
       "  0.465057636887608]]"
      ]
     },
     "execution_count": 16,
     "metadata": {},
     "output_type": "execute_result"
    }
   ],
   "source": [
    "# Til og med nest siste element:\n",
    "stocks[:-1]"
   ]
  },
  {
   "cell_type": "code",
   "execution_count": 17,
   "id": "83dd1305",
   "metadata": {},
   "outputs": [
    {
     "name": "stdout",
     "output_type": "stream",
     "text": [
      "Det tredje selskapet er Telenor\n"
     ]
    }
   ],
   "source": [
    "print(f\"Det tredje selskapet er {stocks[2][0]}\")"
   ]
  },
  {
   "cell_type": "code",
   "execution_count": 18,
   "id": "beecdf78",
   "metadata": {},
   "outputs": [
    {
     "data": {
      "text/plain": [
       "[['Equinor',\n",
       "  'EQNR',\n",
       "  167.554919090282,\n",
       "  376883380048.5,\n",
       "  6.14609823076753,\n",
       "  0.617893838660362],\n",
       " ['DNB', 'DNB', 164, 259169427140, 11.1121822724349, 0.914999939276725],\n",
       " ['Telenor',\n",
       "  'TEL',\n",
       "  148.737572948101,\n",
       "  227115017138.4,\n",
       "  13.0211568133471,\n",
       "  0.715300723576896],\n",
       " ['Marine Harvest',\n",
       "  'MHG',\n",
       "  225.589705235372,\n",
       "  118004750966.2,\n",
       "  21.6878893009616,\n",
       "  0.440427599611273],\n",
       " ['Aker BP',\n",
       "  'AKERBP',\n",
       "  272.499264741749,\n",
       "  103712690592,\n",
       "  26.7636558040214,\n",
       "  0.722568840028356],\n",
       " ['Yara International',\n",
       "  'YAR',\n",
       "  333.328922090651,\n",
       "  99481443032.4,\n",
       "  86.741957363663,\n",
       "  0.465057636887608],\n",
       " ['Gjensidige Forsikring',\n",
       "  'GJF',\n",
       "  172.830508474576,\n",
       "  92125000000,\n",
       "  24.9404407385348,\n",
       "  0.847890127134592],\n",
       " ['Tomra Systems',\n",
       "  'TOM',\n",
       "  276.409619134278,\n",
       "  41208789715.2,\n",
       "  52.8996016883184,\n",
       "  0.454299114121939]]"
      ]
     },
     "execution_count": 18,
     "metadata": {},
     "output_type": "execute_result"
    }
   ],
   "source": [
    "tomra_systems=['Tomra Systems', 'TOM', 276.409619134278, 41208789715.2, 52.8996016883184, 0.454299114121939]\n",
    "\n",
    "stocks = stocks + [tomra_systems]\n",
    "stocks"
   ]
  },
  {
   "cell_type": "code",
   "execution_count": 19,
   "id": "6c900f21",
   "metadata": {},
   "outputs": [
    {
     "data": {
      "text/plain": [
       "8"
      ]
     },
     "execution_count": 19,
     "metadata": {},
     "output_type": "execute_result"
    }
   ],
   "source": [
    "# Nå kan vi se hva lengen av lista vår 'stocks' har blitt til\n",
    "len(stocks)"
   ]
  },
  {
   "cell_type": "code",
   "execution_count": 20,
   "id": "e76826d9",
   "metadata": {},
   "outputs": [
    {
     "name": "stdout",
     "output_type": "stream",
     "text": [
      "['DNB', 'DNB', 164, 259169427140, 11.1121822724349, 0.914999939276725]\n"
     ]
    },
    {
     "data": {
      "text/plain": [
       "[['Equinor',\n",
       "  'EQNR',\n",
       "  167.554919090282,\n",
       "  376883380048.5,\n",
       "  6.14609823076753,\n",
       "  0.617893838660362],\n",
       " ['Telenor',\n",
       "  'TEL',\n",
       "  148.737572948101,\n",
       "  227115017138.4,\n",
       "  13.0211568133471,\n",
       "  0.715300723576896],\n",
       " ['Marine Harvest',\n",
       "  'MHG',\n",
       "  225.589705235372,\n",
       "  118004750966.2,\n",
       "  21.6878893009616,\n",
       "  0.440427599611273],\n",
       " ['Aker BP',\n",
       "  'AKERBP',\n",
       "  272.499264741749,\n",
       "  103712690592,\n",
       "  26.7636558040214,\n",
       "  0.722568840028356],\n",
       " ['Yara International',\n",
       "  'YAR',\n",
       "  333.328922090651,\n",
       "  99481443032.4,\n",
       "  86.741957363663,\n",
       "  0.465057636887608],\n",
       " ['Gjensidige Forsikring',\n",
       "  'GJF',\n",
       "  172.830508474576,\n",
       "  92125000000,\n",
       "  24.9404407385348,\n",
       "  0.847890127134592],\n",
       " ['Tomra Systems',\n",
       "  'TOM',\n",
       "  276.409619134278,\n",
       "  41208789715.2,\n",
       "  52.8996016883184,\n",
       "  0.454299114121939]]"
      ]
     },
     "execution_count": 20,
     "metadata": {},
     "output_type": "execute_result"
    }
   ],
   "source": [
    "# Denne funksjonen kvitter seg med element i i en liste \n",
    "def pop_and_print(liste, i):\n",
    "    last_element = liste.pop(i)\n",
    "    print(last_element)\n",
    "    \n",
    "pop_and_print(stocks, 1)\n",
    "stocks"
   ]
  },
  {
   "cell_type": "code",
   "execution_count": 21,
   "id": "9b943830",
   "metadata": {},
   "outputs": [
    {
     "name": "stdout",
     "output_type": "stream",
     "text": [
      "['Tomra Systems', 'TOM', 276.409619134278, 41208789715.2, 52.8996016883184, 0.454299114121939]\n"
     ]
    },
    {
     "data": {
      "text/plain": [
       "[['Equinor',\n",
       "  'EQNR',\n",
       "  167.554919090282,\n",
       "  376883380048.5,\n",
       "  6.14609823076753,\n",
       "  0.617893838660362],\n",
       " ['Telenor',\n",
       "  'TEL',\n",
       "  148.737572948101,\n",
       "  227115017138.4,\n",
       "  13.0211568133471,\n",
       "  0.715300723576896],\n",
       " ['Marine Harvest',\n",
       "  'MHG',\n",
       "  225.589705235372,\n",
       "  118004750966.2,\n",
       "  21.6878893009616,\n",
       "  0.440427599611273],\n",
       " ['Aker BP',\n",
       "  'AKERBP',\n",
       "  272.499264741749,\n",
       "  103712690592,\n",
       "  26.7636558040214,\n",
       "  0.722568840028356],\n",
       " ['Yara International',\n",
       "  'YAR',\n",
       "  333.328922090651,\n",
       "  99481443032.4,\n",
       "  86.741957363663,\n",
       "  0.465057636887608],\n",
       " ['Gjensidige Forsikring',\n",
       "  'GJF',\n",
       "  172.830508474576,\n",
       "  92125000000,\n",
       "  24.9404407385348,\n",
       "  0.847890127134592],\n",
       " ['Tomra Systems',\n",
       "  'TOM',\n",
       "  276.409619134278,\n",
       "  41208789715.2,\n",
       "  52.8996016883184,\n",
       "  0.454299114121939]]"
      ]
     },
     "execution_count": 21,
     "metadata": {},
     "output_type": "execute_result"
    }
   ],
   "source": [
    "# Denne funksjonen kvitter seg med element i\n",
    "def pop_and_print(a,i):\n",
    "    # Lag en kopi av liste 'a'\n",
    "    a=list(a)\n",
    "    \n",
    "    # Kvitter oss med element i, og viser hva det er\n",
    "    last_element=a.pop(-1)\n",
    "    print(last_element)\n",
    "    \n",
    "pop_and_print(stocks,-1)\n",
    "stocks"
   ]
  },
  {
   "cell_type": "code",
   "execution_count": 22,
   "id": "05001f5d",
   "metadata": {},
   "outputs": [
    {
     "name": "stdout",
     "output_type": "stream",
     "text": [
      "<class 'tuple'>\n",
      "<class 'tuple'>\n"
     ]
    }
   ],
   "source": [
    "a = tuple(equinor)\n",
    "b = ('Equinor', 'EQNR', 146.85, 315357973561)\n",
    "\n",
    "print(type(a))\n",
    "print(type(b))"
   ]
  },
  {
   "cell_type": "code",
   "execution_count": 23,
   "id": "92ac9382",
   "metadata": {},
   "outputs": [
    {
     "name": "stdout",
     "output_type": "stream",
     "text": [
      "['DNB', 'DNB', 164, 259169427140, 11.1121822724349, 0.914999939276725]\n",
      "<class 'list'>\n"
     ]
    }
   ],
   "source": [
    "print(dnb)\n",
    "print(type(dnb))"
   ]
  },
  {
   "cell_type": "code",
   "execution_count": 24,
   "id": "1cb99809",
   "metadata": {},
   "outputs": [
    {
     "name": "stdout",
     "output_type": "stream",
     "text": [
      "('DNB', 'DNB', 164, 259169427140, 11.1121822724349, 0.914999939276725)\n",
      "<class 'tuple'>\n"
     ]
    }
   ],
   "source": [
    "DNB_tuple = tuple(dnb)\n",
    "print(DNB_tuple)\n",
    "print(type(DNB_tuple))"
   ]
  },
  {
   "cell_type": "code",
   "execution_count": 25,
   "id": "97a81aeb",
   "metadata": {
    "scrolled": true
   },
   "outputs": [
    {
     "name": "stdout",
     "output_type": "stream",
     "text": [
      "Equinor\n"
     ]
    },
    {
     "ename": "TypeError",
     "evalue": "'tuple' object does not support item assignment",
     "output_type": "error",
     "traceback": [
      "\u001b[1;31m---------------------------------------------------------------------------\u001b[0m",
      "\u001b[1;31mTypeError\u001b[0m                                 Traceback (most recent call last)",
      "Cell \u001b[1;32mIn[25], line 2\u001b[0m\n\u001b[0;32m      1\u001b[0m \u001b[38;5;28mprint\u001b[39m(a[\u001b[38;5;241m0\u001b[39m])\n\u001b[1;32m----> 2\u001b[0m \u001b[43ma\u001b[49m\u001b[43m[\u001b[49m\u001b[38;5;241;43m0\u001b[39;49m\u001b[43m]\u001b[49m\u001b[38;5;241m=\u001b[39m\u001b[38;5;124m'\u001b[39m\u001b[38;5;124mStatoil\u001b[39m\u001b[38;5;124m'\u001b[39m\n",
      "\u001b[1;31mTypeError\u001b[0m: 'tuple' object does not support item assignment"
     ]
    }
   ],
   "source": [
    "print(a[0])\n",
    "a[0]='Statoil'"
   ]
  },
  {
   "cell_type": "code",
   "execution_count": 26,
   "id": "72c499ee",
   "metadata": {},
   "outputs": [],
   "source": [
    "import numpy as np"
   ]
  },
  {
   "cell_type": "code",
   "execution_count": 27,
   "id": "0135a901",
   "metadata": {},
   "outputs": [],
   "source": [
    "stocks=[\n",
    "['Equinor', 'EQNR', 167.554919090282, 376883380048.5, 6.14609823076753, 0.617893838660362] , \n",
    "['DNB', 'DNB', 164, 259169427140, 11.1121822724349, 0.914999939276725] , \n",
    "['Telenor', 'TEL', 148.737572948101, 227115017138.4, 13.0211568133471, 0.715300723576896] , \n",
    "['Marine Harvest', 'MHG', 225.589705235372, 118004750966.2, 21.6878893009616, 0.440427599611273] , \n",
    "['Aker BP', 'AKERBP', 272.499264741749, 103712690592, 26.7636558040214, 0.722568840028356] , \n",
    "['Yara International', 'YAR', 333.328922090651, 99481443032.4, 86.741957363663, 0.465057636887608] , \n",
    "['Gjensidige Forsikring', 'GJF', 172.830508474576, 92125000000, 24.9404407385348, 0.847890127134592] , \n",
    "['Orkla', 'ORK', 86.5857852597003, 89087299091.2, 26.5615083754323, 0.350968405416214] , \n",
    "['Norsk Hydro', 'NHY', 31.4389402413895, 67532103728.64, 15.6215830970715, 0.439195576287418] , \n",
    "['SalMar', 'SALM', 449.3, 50905689550.7, 14.222545257898, 0.396134627028104] , \n",
    "['Tomra Systems', 'TOM', 276.409619134278, 41208789715.2, 52.8996016883184, 0.454299114121939] , \n",
    "['Aker', 'AKER', 514.200494811093, 40393931997, 43.4343354806452, 0.548092886866901] , \n",
    "]"
   ]
  },
  {
   "cell_type": "code",
   "execution_count": 28,
   "id": "bc46bfad",
   "metadata": {},
   "outputs": [
    {
     "data": {
      "text/plain": [
       "['DNB', 'DNB', 164, 259169427140, 11.1121822724349, 0.914999939276725]"
      ]
     },
     "execution_count": 28,
     "metadata": {},
     "output_type": "execute_result"
    }
   ],
   "source": [
    "stocks[1]"
   ]
  },
  {
   "cell_type": "code",
   "execution_count": 29,
   "id": "33102422",
   "metadata": {
    "scrolled": true
   },
   "outputs": [],
   "source": [
    "stocks_np = np.array(stocks)"
   ]
  },
  {
   "cell_type": "code",
   "execution_count": 30,
   "id": "4ebd0443",
   "metadata": {},
   "outputs": [
    {
     "data": {
      "text/plain": [
       "numpy.ndarray"
      ]
     },
     "execution_count": 30,
     "metadata": {},
     "output_type": "execute_result"
    }
   ],
   "source": [
    "type(stocks_np)"
   ]
  },
  {
   "cell_type": "code",
   "execution_count": 31,
   "id": "656865d8",
   "metadata": {},
   "outputs": [
    {
     "data": {
      "text/plain": [
       "array([['Equinor', 'EQNR', '167.554919090282', '376883380048.5',\n",
       "        '6.14609823076753', '0.617893838660362'],\n",
       "       ['DNB', 'DNB', '164', '259169427140', '11.1121822724349',\n",
       "        '0.914999939276725'],\n",
       "       ['Telenor', 'TEL', '148.737572948101', '227115017138.4',\n",
       "        '13.0211568133471', '0.715300723576896'],\n",
       "       ['Marine Harvest', 'MHG', '225.589705235372', '118004750966.2',\n",
       "        '21.6878893009616', '0.440427599611273'],\n",
       "       ['Aker BP', 'AKERBP', '272.499264741749', '103712690592',\n",
       "        '26.7636558040214', '0.722568840028356'],\n",
       "       ['Yara International', 'YAR', '333.328922090651', '99481443032.4',\n",
       "        '86.741957363663', '0.465057636887608'],\n",
       "       ['Gjensidige Forsikring', 'GJF', '172.830508474576',\n",
       "        '92125000000', '24.9404407385348', '0.847890127134592'],\n",
       "       ['Orkla', 'ORK', '86.5857852597003', '89087299091.2',\n",
       "        '26.5615083754323', '0.350968405416214'],\n",
       "       ['Norsk Hydro', 'NHY', '31.4389402413895', '67532103728.64',\n",
       "        '15.6215830970715', '0.439195576287418'],\n",
       "       ['SalMar', 'SALM', '449.3', '50905689550.7', '14.222545257898',\n",
       "        '0.396134627028104'],\n",
       "       ['Tomra Systems', 'TOM', '276.409619134278', '41208789715.2',\n",
       "        '52.8996016883184', '0.454299114121939'],\n",
       "       ['Aker', 'AKER', '514.200494811093', '40393931997',\n",
       "        '43.4343354806452', '0.548092886866901']], dtype='<U32')"
      ]
     },
     "execution_count": 31,
     "metadata": {},
     "output_type": "execute_result"
    }
   ],
   "source": [
    "stocks_np"
   ]
  },
  {
   "cell_type": "code",
   "execution_count": 32,
   "id": "3eabf6c5",
   "metadata": {},
   "outputs": [
    {
     "data": {
      "text/plain": [
       "array([['167.554919090282', '376883380048.5', '6.14609823076753',\n",
       "        '0.617893838660362'],\n",
       "       ['164', '259169427140', '11.1121822724349', '0.914999939276725'],\n",
       "       ['148.737572948101', '227115017138.4', '13.0211568133471',\n",
       "        '0.715300723576896'],\n",
       "       ['225.589705235372', '118004750966.2', '21.6878893009616',\n",
       "        '0.440427599611273'],\n",
       "       ['272.499264741749', '103712690592', '26.7636558040214',\n",
       "        '0.722568840028356'],\n",
       "       ['333.328922090651', '99481443032.4', '86.741957363663',\n",
       "        '0.465057636887608'],\n",
       "       ['172.830508474576', '92125000000', '24.9404407385348',\n",
       "        '0.847890127134592'],\n",
       "       ['86.5857852597003', '89087299091.2', '26.5615083754323',\n",
       "        '0.350968405416214'],\n",
       "       ['31.4389402413895', '67532103728.64', '15.6215830970715',\n",
       "        '0.439195576287418'],\n",
       "       ['449.3', '50905689550.7', '14.222545257898', '0.396134627028104'],\n",
       "       ['276.409619134278', '41208789715.2', '52.8996016883184',\n",
       "        '0.454299114121939'],\n",
       "       ['514.200494811093', '40393931997', '43.4343354806452',\n",
       "        '0.548092886866901']], dtype='<U32')"
      ]
     },
     "execution_count": 32,
     "metadata": {},
     "output_type": "execute_result"
    }
   ],
   "source": [
    "stocks_np[:,2:]"
   ]
  },
  {
   "cell_type": "code",
   "execution_count": 33,
   "id": "0aaeaaac",
   "metadata": {},
   "outputs": [
    {
     "data": {
      "text/plain": [
       "array([[1.67554919e+02, 3.76883380e+11, 6.14609823e+00, 6.17893839e-01],\n",
       "       [1.64000000e+02, 2.59169427e+11, 1.11121823e+01, 9.14999939e-01],\n",
       "       [1.48737573e+02, 2.27115017e+11, 1.30211568e+01, 7.15300724e-01],\n",
       "       [2.25589705e+02, 1.18004751e+11, 2.16878893e+01, 4.40427600e-01],\n",
       "       [2.72499265e+02, 1.03712691e+11, 2.67636558e+01, 7.22568840e-01],\n",
       "       [3.33328922e+02, 9.94814430e+10, 8.67419574e+01, 4.65057637e-01],\n",
       "       [1.72830508e+02, 9.21250000e+10, 2.49404407e+01, 8.47890127e-01],\n",
       "       [8.65857853e+01, 8.90872991e+10, 2.65615084e+01, 3.50968405e-01],\n",
       "       [3.14389402e+01, 6.75321037e+10, 1.56215831e+01, 4.39195576e-01],\n",
       "       [4.49300000e+02, 5.09056896e+10, 1.42225453e+01, 3.96134627e-01],\n",
       "       [2.76409619e+02, 4.12087897e+10, 5.28996017e+01, 4.54299114e-01],\n",
       "       [5.14200495e+02, 4.03939320e+10, 4.34343355e+01, 5.48092887e-01]])"
      ]
     },
     "execution_count": 33,
     "metadata": {},
     "output_type": "execute_result"
    }
   ],
   "source": [
    "stocks_numbers = np.array(stocks_np[:,2:], dtype = float)\n",
    "stocks_numbers"
   ]
  },
  {
   "cell_type": "code",
   "execution_count": 34,
   "id": "dec61f6f",
   "metadata": {},
   "outputs": [
    {
     "data": {
      "image/png": "[encoded data removed]",
      "text/plain": [
       "<Figure size 640x480 with 1 Axes>"
      ]
     },
     "metadata": {},
     "output_type": "display_data"
    }
   ],
   "source": [
    "from matplotlib import pyplot as plt\n",
    "\n",
    "fig,ax = plt.subplots()\n",
    "ax.set_ylabel('PE')\n",
    "ax.set_xlabel('gjeldsrate')\n",
    "ax.scatter(stocks_numbers[:,-1], stocks_numbers[:,-2])\n",
    "plt.grid(True)\n",
    "\n",
    "plt.show()"
   ]
  },
  {
   "cell_type": "code",
   "execution_count": 35,
   "id": "7f475a8a",
   "metadata": {},
   "outputs": [
    {
     "name": "stdout",
     "output_type": "stream",
     "text": [
      "[24 20  8 13]\n",
      "[-22 -10   4  -7]\n",
      "[23 75 12 30]\n",
      "[0.04347826 0.33333333 3.         0.3       ]\n",
      "[  1 125 216  27]\n",
      "[1.         2.23606798 2.44948974 1.73205081]\n"
     ]
    }
   ],
   "source": [
    "a = np.array([1,5,6,3])\n",
    "b = np.array([23,15,2,10])\n",
    "\n",
    "print(a+b)\n",
    "print(a-b)\n",
    "print(a*b)\n",
    "print(a/b)\n",
    "print(a**3)\n",
    "print(a**0.5) #Kvadratroten"
   ]
  },
  {
   "cell_type": "code",
   "execution_count": 36,
   "id": "803aa348",
   "metadata": {},
   "outputs": [
    {
     "name": "stdout",
     "output_type": "stream",
     "text": [
      "{'gjeldsrate': array([0.61789384, 0.91499994, 0.71530072, 0.4404276 , 0.72256884,\n",
      "       0.46505764, 0.84789013, 0.35096841, 0.43919558, 0.39613463,\n",
      "       0.45429911, 0.54809289]), 'PE': array([ 6.14609823, 11.11218227, 13.02115681, 21.6878893 , 26.7636558 ,\n",
      "       86.74195736, 24.94044074, 26.56150838, 15.6215831 , 14.22254526,\n",
      "       52.89960169, 43.43433548])}\n",
      "<class 'dict'>\n"
     ]
    }
   ],
   "source": [
    "# Definere en tom dictionary kalt a\n",
    "a = dict()\n",
    "\n",
    "# Gjeldsrate er i siste kolonne av stocks_numbers ndarray, altså indeks '-1'\n",
    "a['gjeldsrate'] = stocks_numbers[:,-1]\n",
    "\n",
    "# PE er i nest siste kolonne av stocks_numbers ndarray, altså indeks '-2'\n",
    "a['PE'] = stocks_numbers[:,-2]\n",
    "\n",
    "print(a)\n",
    "print(type(a))"
   ]
  },
  {
   "cell_type": "code",
   "execution_count": 37,
   "id": "db9ef8a9",
   "metadata": {},
   "outputs": [
    {
     "data": {
      "text/plain": [
       "array([0.61789384, 0.91499994, 0.71530072, 0.4404276 , 0.72256884,\n",
       "       0.46505764, 0.84789013, 0.35096841, 0.43919558, 0.39613463,\n",
       "       0.45429911, 0.54809289])"
      ]
     },
     "execution_count": 37,
     "metadata": {},
     "output_type": "execute_result"
    }
   ],
   "source": [
    "a['gjeldsrate']"
   ]
  },
  {
   "cell_type": "code",
   "execution_count": 38,
   "id": "8d06fa92",
   "metadata": {},
   "outputs": [
    {
     "name": "stdout",
     "output_type": "stream",
     "text": [
      "<class 'dict'>\n"
     ]
    }
   ],
   "source": [
    "b={\n",
    "    'gjeldsrate':stocks_numbers[:,-1],\n",
    "    'PE':stocks_numbers[:,-2], \n",
    "  }\n",
    "\n",
    "print(type(b))"
   ]
  },
  {
   "cell_type": "code",
   "execution_count": 39,
   "id": "82832646",
   "metadata": {
    "scrolled": true
   },
   "outputs": [
    {
     "data": {
      "text/plain": [
       "<matplotlib.collections.PathCollection at 0x1bc82abbc50>"
      ]
     },
     "execution_count": 39,
     "metadata": {},
     "output_type": "execute_result"
    },
    {
     "data": {
      "image/png": "[encoded data removed]",
      "text/plain": [
       "<Figure size 640x480 with 1 Axes>"
      ]
     },
     "metadata": {},
     "output_type": "display_data"
    }
   ],
   "source": [
    "plt.ylabel('PE')\n",
    "plt.xlabel('gjeldsrate')\n",
    "plt.scatter(a['gjeldsrate'], a['PE'])"
   ]
  },
  {
   "cell_type": "code",
   "execution_count": 40,
   "id": "4cd9d2d0",
   "metadata": {},
   "outputs": [
    {
     "data": {
      "text/plain": [
       "<matplotlib.collections.PathCollection at 0x1bc82b05910>"
      ]
     },
     "execution_count": 40,
     "metadata": {},
     "output_type": "execute_result"
    },
    {
     "data": {
      "image/png": "[encoded data removed]",
      "text/plain": [
       "<Figure size 640x480 with 1 Axes>"
      ]
     },
     "metadata": {},
     "output_type": "display_data"
    }
   ],
   "source": [
    "a['Pris']=stocks_numbers[:,0]\n",
    "plt.ylabel('Pris')\n",
    "plt.xlabel('gjeldsrate')\n",
    "plt.scatter(a['gjeldsrate'], a['Pris'])"
   ]
  },
  {
   "cell_type": "code",
   "execution_count": 41,
   "id": "24e47c0a",
   "metadata": {},
   "outputs": [
    {
     "data": {
      "text/plain": [
       "True"
      ]
     },
     "execution_count": 41,
     "metadata": {},
     "output_type": "execute_result"
    }
   ],
   "source": [
    "locals()['stocks']==stocks"
   ]
  },
  {
   "cell_type": "code",
   "execution_count": 42,
   "id": "a924049f",
   "metadata": {},
   "outputs": [],
   "source": [
    "import pandas as pd"
   ]
  },
  {
   "cell_type": "code",
   "execution_count": 43,
   "id": "d003ed1b",
   "metadata": {},
   "outputs": [
    {
     "data": {
      "text/plain": [
       "array([['Norway', ' NOR', 73262.68, 11.65, 4886000],\n",
       "       ['Kuwait', ' KWT', 67029.523, 6.39, 2992000],\n",
       "       ['Luxembourg', ' LUX', 57882.809, 11.33, 508000],\n",
       "       ['Switzerland', ' CHE', 55688.02, 12.92, 7809000],\n",
       "       ['United States', ' USA', 49500.629, 13.24, 309011008],\n",
       "       ['Ireland', ' IRL', 47823.504, 12.45, 4554000],\n",
       "       ['Australia', ' AUS', 44854.902, 11.69, 22155000],\n",
       "       ['Netherlands', ' NLD', 44004.145, 11.71, 16683000],\n",
       "       ['Denmark', ' DNK', 43416.223, 11.97, 5555000],\n",
       "       ['Hong Kong', ' HKG', 41687.949, 12.2, 6966000],\n",
       "       ['Germany', ' DEU', 40627.23, 12.58, 80827000],\n",
       "       ['Austria', ' AUT', 40489.809, 10.13, 8410000],\n",
       "       ['Sweden', ' SWE', 40421.906, 11.95, 9390000],\n",
       "       ['Canada', ' CAN', 40269.031, 12.74, 34148000],\n",
       "       ['Finland', ' FIN', 38394.059, 10.71, 5366000],\n",
       "       ['Belgium', ' BEL', 38177.945, 11.29, 10939000],\n",
       "       ['Iceland', ' ISL', 37729.016, 11.48, 320000],\n",
       "       ['Taiwan', ' TWN', 37188.895, 11.96, 23188000],\n",
       "       ['Japan', ' JPN', 36595.633, 12.44, 128542000],\n",
       "       ['France', ' FRA', 35786.16, 11.34, 62880000],\n",
       "       ['United Kingdom', ' GBR', 34810.281, 12.46, 63460000],\n",
       "       ['Italy', ' ITA', 34727.676, 10.71, 59325000],\n",
       "       ['Spain', ' ESP', 31610.98, 10.75, 46931000],\n",
       "       ['South Korea', ' KOR', 31589.705, 12.96, 49546000],\n",
       "       ['New Zealand', ' NZL', 30867.053, 11.12, 4370000],\n",
       "       ['Cyprus', ' CYP', 28046.375, 11.76, 1113000],\n",
       "       ['Trinidad and Tobago', ' TTO', 27510.236, 10.96, 1328000],\n",
       "       ['Czechia', ' CZE', 26129.568, 12.8, 10537000],\n",
       "       ['Greece', ' GRC', 25815.799, 11.36, 10888000],\n",
       "       ['Portugal', ' PRT', 25788.273, 8.71, 10596000],\n",
       "       ['Malta', ' MLT', 22983.451, 11.06, 414000],\n",
       "       ['Russia', ' RUS', 21754.066, 12.02, 143479008],\n",
       "       ['Poland', ' POL', 21006.027, 11.62, 38330000],\n",
       "       ['Hungary', ' HUN', 20477.799, 11.98, 9927000],\n",
       "       ['Chile', ' CHL', 18092.941, 10.35, 17063000],\n",
       "       ['Turkey', ' TUR', 17930.68, 7.44, 72327000],\n",
       "       ['Malaysia', ' MYS', 17913.164, 10.89, 28208000],\n",
       "       ['Iran', ' IRN', 17328.459, 9.15, 73763000],\n",
       "       ['Romania', ' ROU', 16775.609, 11.08, 20472000],\n",
       "       ['Venezuela', ' VEN', 16357.737, 8.78, 28440000],\n",
       "       ['Argentina', ' ARG', 15841.659, 9.71, 40896000],\n",
       "       ['Uruguay', ' URY', 15783.405, 8.61, 3359000],\n",
       "       ['Mauritius', ' MUS', 15178.326, 9.44, 1248000],\n",
       "       ['Panama', ' PAN', 15055.237, 9.72, 3643000],\n",
       "       ['Bulgaria', ' BGR', 14906.785, 11.07, 7425000],\n",
       "       ['Mexico', ' MEX', 14507.013, 9.18, 114093000],\n",
       "       ['Barbados', ' BRB', 13995.613, 9.57, 282000],\n",
       "       ['Brazil', ' BRA', 13541.462, 8.17, 195714000],\n",
       "       ['Algeria', ' DZA', 12590.226, 7.0, 35977000],\n",
       "       ['Thailand', ' THA', 12496.244, 8.47, 67195000],\n",
       "       ['Serbia', ' SRB', 12453.482, 11.52, 8991000],\n",
       "       ['Costa Rica', ' CRI', 12106.992, 8.43, 4577000],\n",
       "       ['Dominican Republic', ' DOM', 11500.132, 8.12, 9695000],\n",
       "       ['South Africa', ' ZAF', 11388.641, 9.89, 51217000],\n",
       "       ['Tunisia', ' TUN', 10647.835, 8.0, 10635000],\n",
       "       ['Colombia', ' COL', 10636.5, 9.35, 45223000],\n",
       "       ['Albania', ' ALB', 9544.7402, 10.44, 2948000],\n",
       "       ['Jordan', ' JOR', 9351.3877, 10.0, 7262000],\n",
       "       ['Iraq', ' IRQ', 9344.5439, 7.43, 29742000],\n",
       "       ['China', ' CHN', 9337.29, 8.25, 1368811008],\n",
       "       ['Peru', ' PER', 9262.1641, 9.28, 29028000],\n",
       "       ['Egypt', ' EGY', 9148.8398, 7.44, 82761000],\n",
       "       ['Ecuador', ' ECU', 9129.1367, 8.02, 15011000],\n",
       "       ['Sri Lanka', ' LKA', 8390.4297, 10.67, 20262000],\n",
       "       ['Indonesia', ' IDN', 7365.4385, 8.02, 241834000],\n",
       "       ['Belize', ' BLZ', 7145.9521, 9.63, 322000],\n",
       "       ['Eswatini', ' SWZ', 7042.5239, 5.33, 1065000],\n",
       "       ['Fiji', ' FJI', 6902.0688, 10.35, 860000],\n",
       "       ['Paraguay', ' PRY', 6825.2051, 7.99, 6248000],\n",
       "       ['Jamaica', ' JAM', 6675.1768, 10.33, 2810000],\n",
       "       ['Morocco', ' MAR', 6421.9375, 5.27, 32343000],\n",
       "       ['Guatemala', ' GTM', 6359.2627, 5.21, 14630000],\n",
       "       ['El Salvador', ' SLV', 6096.9585, 8.06, 6184000],\n",
       "       ['Syria', ' SYR', 5700.3291, 7.07, 21363000],\n",
       "       ['Philippines', ' PHL', 5391.2339, 8.65, 93967000],\n",
       "       ['Bolivia', ' BOL', 4806.6094, 8.57, 10049000],\n",
       "       ['Yemen', ' YEM', 4553.5571, 3.84, 23155000],\n",
       "       ['India', ' IND', 4357.0596, 6.59, 1234280960],\n",
       "       ['Pakistan', ' PAK', 4171.4165, 5.19, 179424992],\n",
       "       ['Nicaragua', ' NIC', 3992.762, 6.82, 5824000],\n",
       "       ['Ghana', ' GHA', 3931.2917, 7.66, 24780000],\n",
       "       ['Honduras', ' HND', 3789.9104, 6.6, 8317000],\n",
       "       ['Sudan', ' SDN', 3608.7856, 3.49, 34545000],\n",
       "       ['Myanmar', ' MMR', 3422.2415, 5.11, 50601000],\n",
       "       ['Zambia', ' ZMB', 2870.8872, 7.4, 13606000],\n",
       "       ['Senegal', ' SEN', 2741.1213, 3.11, 12678000],\n",
       "       ['Cameroon', ' CMR', 2684.9727, 6.41, 20341000],\n",
       "       ['Gambia', ' GMB', 2681.8586, 3.92, 1793000],\n",
       "       ['Kenya', ' KEN', 2484.0349, 6.47, 42031000],\n",
       "       [\"Cote d'Ivoire\", ' CIV', 2452.6096, 4.93, 20533000],\n",
       "       ['Lesotho', ' LSO', 2432.7976, 6.08, 1996000],\n",
       "       ['Bangladesh', ' BGD', 2411.1021, 6.22, 147575008],\n",
       "       ['Cambodia', ' KHM', 2330.1272, 4.94, 14312000],\n",
       "       ['Nepal', ' NPL', 1996.1962, 4.44, 27013000],\n",
       "       ['Benin', ' BEN', 1919.9968, 4.57, 9199000],\n",
       "       ['Mali', ' MLI', 1873.281, 2.14, 15049000],\n",
       "       ['Uganda', ' UGA', 1723.5942, 5.87, 32428000],\n",
       "       ['Haiti', ' HTI', 1650.2697, 5.17, 9949000],\n",
       "       ['Zimbabwe', ' ZWE', 1479.0305, 7.86, 12698000],\n",
       "       ['Togo', ' TGO', 1222.8151, 6.09, 6422000],\n",
       "       ['Sierra Leone', ' SLE', 1161.8798, 4.28, 6416000],\n",
       "       ['Malawi', ' MWI', 972.04572, 5.01, 14540000],\n",
       "       ['Mozambique', ' MOZ', 969.23077, 2.03, 23532000],\n",
       "       ['Niger', ' NER', 845.86932, 1.95, 16464000],\n",
       "       ['Liberia', ' LBR', 786.67023, 4.35, 3891000],\n",
       "       ['Democratic Republic of Congo', ' COD', 634.97137, 3.79,\n",
       "        64564000]], dtype=object)"
      ]
     },
     "execution_count": 43,
     "metadata": {},
     "output_type": "execute_result"
    }
   ],
   "source": [
    "# Dette kan dere kjøre som det er, vi skal se mer på pandas i neste forelesning!\n",
    "df = pd.read_csv('https://raw.githubusercontent.com/uit-bed-1304-h25/uit-bed-1304-h25.github.io/refs/heads/main/data/schooling-gdp.csv')\n",
    "\n",
    "# Gjør om en pandas dataframe til numpy\n",
    "numpy_data = df.to_numpy()\n",
    "\n",
    "# Dette er dataene vi skal jobbe med i oppgaver. Mer om Pandas og databehandling i neste forelesning\n",
    "numpy_data"
   ]
  },
  {
   "cell_type": "code",
   "execution_count": null,
   "id": "26e16e07",
   "metadata": {},
   "outputs": [],
   "source": []
  },
  {
   "cell_type": "code",
   "execution_count": null,
   "id": "91225db3",
   "metadata": {},
   "outputs": [],
   "source": []
  },
  {
   "cell_type": "code",
   "execution_count": null,
   "id": "c38be755",
   "metadata": {},
   "outputs": [],
   "source": []
  },
  {
   "cell_type": "code",
   "execution_count": null,
   "id": "198dc97c",
   "metadata": {},
   "outputs": [],
   "source": []
  },
  {
   "cell_type": "code",
   "execution_count": null,
   "id": "89984340",
   "metadata": {},
   "outputs": [],
   "source": []
  },
  {
   "cell_type": "code",
   "execution_count": null,
   "id": "c437603b",
   "metadata": {},
   "outputs": [],
   "source": []
  },
  {
   "cell_type": "code",
   "execution_count": null,
   "id": "a796885f",
   "metadata": {},
   "outputs": [],
   "source": []
  },
  {
   "cell_type": "code",
   "execution_count": null,
   "id": "e1d4f504",
   "metadata": {},
   "outputs": [],
   "source": []
  },
  {
   "cell_type": "code",
   "execution_count": null,
   "id": "c1088ea0",
   "metadata": {},
   "outputs": [],
   "source": []
  },
  {
   "cell_type": "code",
   "execution_count": null,
   "id": "9cea6dc6",
   "metadata": {},
   "outputs": [],
   "source": []
  },
  {
   "cell_type": "code",
   "execution_count": null,
   "id": "784a2c7f",
   "metadata": {},
   "outputs": [],
   "source": []
  },
  {
   "cell_type": "code",
   "execution_count": null,
   "id": "76f741e7",
   "metadata": {},
   "outputs": [],
   "source": []
  },
  {
   "cell_type": "code",
   "execution_count": null,
   "id": "8fdefcea",
   "metadata": {},
   "outputs": [],
   "source": []
  },
  {
   "cell_type": "code",
   "execution_count": null,
   "id": "d896de15",
   "metadata": {},
   "outputs": [],
   "source": []
  },
  {
   "cell_type": "code",
   "execution_count": null,
   "id": "ff633f20",
   "metadata": {},
   "outputs": [],
   "source": []
  },
  {
   "cell_type": "code",
   "execution_count": null,
   "id": "4abdd00d",
   "metadata": {},
   "outputs": [],
   "source": []
  },
  {
   "cell_type": "code",
   "execution_count": null,
   "id": "9b794216",
   "metadata": {},
   "outputs": [],
   "source": []
  },
  {
   "cell_type": "code",
   "execution_count": null,
   "id": "53b4245f",
   "metadata": {},
   "outputs": [],
   "source": []
  },
  {
   "cell_type": "code",
   "execution_count": null,
   "id": "b3b1d50e",
   "metadata": {},
   "outputs": [],
   "source": []
  }
 ],
 "metadata": {
  "kernelspec": {
   "display_name": "Python (myenv)",
   "language": "python",
   "name": "python3"
  },
  "language_info": {
   "codemirror_mode": {
    "name": "ipython",
    "version": 3
   },
   "file_extension": ".py",
   "mimetype": "text/x-python",
   "name": "python",
   "nbconvert_exporter": "python",
   "pygments_lexer": "ipython3",
   "version": "3.11.2"
  }
 },
 "nbformat": 4,
 "nbformat_minor": 5
}