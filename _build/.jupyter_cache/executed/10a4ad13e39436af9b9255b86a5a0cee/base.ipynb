{
 "cells": [
  {
   "cell_type": "code",
   "execution_count": 1,
   "id": "79193e95",
   "metadata": {},
   "outputs": [
    {
     "name": "stdout",
     "output_type": "stream",
     "text": [
      "Hei\n"
     ]
    }
   ],
   "source": [
    "a = False\n",
    "\n",
    "if a == False:\n",
    "    print(\"Hei\")\n",
    "else:\n",
    "    print(\"Hå\")"
   ]
  },
  {
   "cell_type": "code",
   "execution_count": 2,
   "id": "375d9cb8",
   "metadata": {},
   "outputs": [
    {
     "name": "stdout",
     "output_type": "stream",
     "text": [
      "Bought for: 100\n",
      "Worth today: 177\n",
      "You won!\n"
     ]
    }
   ],
   "source": [
    "import numpy as np\n",
    "\n",
    "def did_I_win(s0,s1):\n",
    "    if s1>s0:\n",
    "        return \"won!\"\n",
    "    else:\n",
    "        return \"lost\" \n",
    "\n",
    "PricePaid = 100\n",
    "StockPriceToday = int(np.random.rand()*200)\n",
    "print(\n",
    "    f\"Bought for: {PricePaid}\\n\"\n",
    "    f\"Worth today: {StockPriceToday}\\n\"\n",
    "    f\"You {did_I_win(PricePaid,StockPriceToday)}\"\n",
    ")"
   ]
  },
  {
   "cell_type": "code",
   "execution_count": 3,
   "id": "e535c0a7",
   "metadata": {},
   "outputs": [
    {
     "name": "stdout",
     "output_type": "stream",
     "text": [
      "Du er en voksen.\n"
     ]
    }
   ],
   "source": [
    "# Eksempelalder\n",
    "alder = 18\n",
    "\n",
    "if alder < 18:\n",
    "    print(\"Du er et barn.\")\n",
    "elif alder < 65:\n",
    "    print(\"Du er en voksen.\")\n",
    "else:\n",
    "    print(\"Du er en senior.\")\n",
    "\n",
    "### Det vi egentlig har skrevet over her, gjør er:\n",
    "# Hvis alder er mindre enn 18 --> print(\"Du er et barn.\")\n",
    "# Hvis ikke den over, hvis alder er mindre enn 65 --> print(\"Du er en voksen.\")\n",
    "# Hvis ingen av de over --> print(\"Du er en senior.\")"
   ]
  },
  {
   "cell_type": "code",
   "execution_count": 4,
   "id": "b01219bf",
   "metadata": {},
   "outputs": [
    {
     "name": "stdout",
     "output_type": "stream",
     "text": [
      "[False False  True]\n"
     ]
    },
    {
     "ename": "ValueError",
     "evalue": "The truth value of an array with more than one element is ambiguous. Use a.any() or a.all()",
     "output_type": "error",
     "traceback": [
      "\u001b[1;31m---------------------------------------------------------------------------\u001b[0m",
      "\u001b[1;31mValueError\u001b[0m                                Traceback (most recent call last)",
      "Cell \u001b[1;32mIn[4], line 5\u001b[0m\n\u001b[0;32m      2\u001b[0m b \u001b[38;5;241m=\u001b[39m np\u001b[38;5;241m.\u001b[39marray([\u001b[38;5;241m3\u001b[39m,\u001b[38;5;241m2\u001b[39m,\u001b[38;5;241m1\u001b[39m])\n\u001b[0;32m      4\u001b[0m \u001b[38;5;28mprint\u001b[39m(a\u001b[38;5;241m>\u001b[39mb)\n\u001b[1;32m----> 5\u001b[0m \u001b[38;5;28;01mif\u001b[39;00m a\u001b[38;5;241m>\u001b[39mb:\n\u001b[0;32m      6\u001b[0m     \u001b[38;5;28mprint\u001b[39m(\u001b[38;5;124m'\u001b[39m\u001b[38;5;124ma was bigger than b\u001b[39m\u001b[38;5;124m'\u001b[39m)\n",
      "\u001b[1;31mValueError\u001b[0m: The truth value of an array with more than one element is ambiguous. Use a.any() or a.all()"
     ]
    }
   ],
   "source": [
    "a = np.array([1,2,3])\n",
    "b = np.array([3,2,1])\n",
    "\n",
    "print(a>b)\n",
    "if a>b:\n",
    "    print('a was bigger than b')"
   ]
  },
  {
   "cell_type": "code",
   "execution_count": 5,
   "id": "8b8ccb8d",
   "metadata": {},
   "outputs": [
    {
     "name": "stdout",
     "output_type": "stream",
     "text": [
      "There were elements in a where the corresponding element in b was smaller\n",
      "All elements in a was bigger than the corresponding element in b\n"
     ]
    }
   ],
   "source": [
    "if np.any(a>b):\n",
    "    print('There were elements in a where the corresponding element in b was smaller')\n",
    "    \n",
    "    \n",
    "a = np.array([101,102,103])\n",
    "if np.all(a>b):\n",
    "    print('All elements in a was bigger than the corresponding element in b')\n"
   ]
  },
  {
   "cell_type": "code",
   "execution_count": 6,
   "id": "e9ea6acd",
   "metadata": {},
   "outputs": [
    {
     "name": "stdout",
     "output_type": "stream",
     "text": [
      "lion is a cat and a mammal\n"
     ]
    }
   ],
   "source": [
    "animal='lion'\n",
    "\n",
    "cats=['lion','tiger','puma','lynx']\n",
    "mammals=['human','bear','cat','whale','mouse']+cats\n",
    "\n",
    "if (animal in cats) and (animal in mammals):\n",
    "    print(f\"{animal} is a cat and a mammal\")\n",
    "elif (not animal in cats) and (animal in mammals):\n",
    "    print(f\"{animal} is not a cat, but it is a mammal\")\n",
    "elif (animal in cats) and (not animal in mammals):\n",
    "    print(f\"{animal} is a cat, but not a mammal\")   \n",
    "else:\n",
    "    print(f\"{animal} is neither a cat nor a mammal\")"
   ]
  },
  {
   "cell_type": "code",
   "execution_count": 7,
   "id": "6c483a44",
   "metadata": {},
   "outputs": [
    {
     "name": "stdout",
     "output_type": "stream",
     "text": [
      "0\n",
      "1\n",
      "2\n",
      "3\n",
      "4\n",
      "5\n",
      "6\n",
      "7\n",
      "8\n",
      "9\n"
     ]
    }
   ],
   "source": [
    "# Eksempel 5\n",
    "for i in range(10):\n",
    "    print(i)"
   ]
  },
  {
   "cell_type": "code",
   "execution_count": 8,
   "id": "39ea36c7",
   "metadata": {},
   "outputs": [
    {
     "name": "stdout",
     "output_type": "stream",
     "text": [
      "1\n",
      "2\n",
      "4\n",
      "8\n",
      "100\n"
     ]
    }
   ],
   "source": [
    "# Eksempel 6\n",
    "liste = [1, 2, 4, 8, 100]\n",
    "\n",
    "for i in liste:\n",
    "    print(i)"
   ]
  },
  {
   "cell_type": "code",
   "execution_count": 9,
   "id": "bec82e04",
   "metadata": {},
   "outputs": [
    {
     "name": "stdout",
     "output_type": "stream",
     "text": [
      "Total inntekt for året: 39500\n"
     ]
    }
   ],
   "source": [
    "monthly_income = [3000, 3200, 3500, 2800, 3000, 3100, 3300, 3400, 3600, 3700, 3500, 3400]\n",
    "total_income = 0\n",
    "\n",
    "for income in monthly_income:\n",
    "    total_income += income\n",
    "\n",
    "print(\"Total inntekt for året:\", total_income)\n"
   ]
  },
  {
   "cell_type": "code",
   "execution_count": 10,
   "id": "5b5bbf32",
   "metadata": {},
   "outputs": [
    {
     "name": "stdout",
     "output_type": "stream",
     "text": [
      "Gjennomsnittlig månedlig inntekt: 3291.67\n"
     ]
    }
   ],
   "source": [
    "total_income = 0\n",
    "\n",
    "for income in monthly_income:\n",
    "    total_income += income\n",
    "\n",
    "average_income = total_income / len(monthly_income)\n",
    "print(\"Gjennomsnittlig månedlig inntekt:\", round(average_income,2 ))\n"
   ]
  },
  {
   "cell_type": "code",
   "execution_count": 11,
   "id": "e8e580ce",
   "metadata": {},
   "outputs": [
    {
     "name": "stdout",
     "output_type": "stream",
     "text": [
      "Verdi av investeringen etter år: [10500.0, 11025.0, 11576.250000000002, 12155.062500000002, 12762.815625000003, 13400.956406250005, 14071.004226562505, 14774.55443789063, 15513.282159785162, 16288.94626777442]\n"
     ]
    }
   ],
   "source": [
    "initial_investment = 10000  # Startkapital\n",
    "interest_rate = 0.05        # 5% rente\n",
    "years = 10                  # Antall år\n",
    "values = []\n",
    "\n",
    "for year in range(1, years + 1):\n",
    "    value = initial_investment * (1 + interest_rate) ** year\n",
    "    values.append(value)\n",
    "\n",
    "print(\"Verdi av investeringen etter år:\", values)\n"
   ]
  },
  {
   "cell_type": "code",
   "execution_count": 12,
   "id": "6527539f",
   "metadata": {},
   "outputs": [
    {
     "name": "stdout",
     "output_type": "stream",
     "text": [
      "Skatt for inntekt på 45000 kr i måneden: 15750 kr\n",
      "Skatt for inntekt på 47000 kr i måneden: 16450 kr\n",
      "Skatt for inntekt på 50000 kr i måneden: 17500 kr\n",
      "Skatt for inntekt på 60000 kr i måneden: 21000 kr\n",
      "Skatt for inntekt på 80000 kr i måneden: 28000 kr\n",
      "Skatt for inntekt på 90000 kr i måneden: 31500 kr\n"
     ]
    }
   ],
   "source": [
    "tax_rate = 0.35  # 25% skatt\n",
    "monthly_income = [45000, 47000, 50000, 60000, 80000, 90000]\n",
    "\n",
    "for income in monthly_income:\n",
    "    tax = round(income * tax_rate)\n",
    "    print(f\"Skatt for inntekt på {income} kr i måneden: {tax} kr\")"
   ]
  },
  {
   "cell_type": "code",
   "execution_count": 13,
   "id": "66de4ca9",
   "metadata": {},
   "outputs": [
    {
     "data": {
      "text/html": [
       "<div>\n",
       "<style scoped>\n",
       "    .dataframe tbody tr th:only-of-type {\n",
       "        vertical-align: middle;\n",
       "    }\n",
       "\n",
       "    .dataframe tbody tr th {\n",
       "        vertical-align: top;\n",
       "    }\n",
       "\n",
       "    .dataframe thead th {\n",
       "        text-align: right;\n",
       "    }\n",
       "</style>\n",
       "<table border=\"1\" class=\"dataframe\">\n",
       "  <thead>\n",
       "    <tr style=\"text-align: right;\">\n",
       "      <th></th>\n",
       "      <th>Frukter</th>\n",
       "      <th>Kalorier</th>\n",
       "      <th>Vekt (gram)</th>\n",
       "    </tr>\n",
       "  </thead>\n",
       "  <tbody>\n",
       "    <tr>\n",
       "      <th>0</th>\n",
       "      <td>Eple</td>\n",
       "      <td>52</td>\n",
       "      <td>182</td>\n",
       "    </tr>\n",
       "    <tr>\n",
       "      <th>1</th>\n",
       "      <td>Banan</td>\n",
       "      <td>89</td>\n",
       "      <td>118</td>\n",
       "    </tr>\n",
       "    <tr>\n",
       "      <th>2</th>\n",
       "      <td>Appelsin</td>\n",
       "      <td>47</td>\n",
       "      <td>131</td>\n",
       "    </tr>\n",
       "    <tr>\n",
       "      <th>3</th>\n",
       "      <td>Druer</td>\n",
       "      <td>69</td>\n",
       "      <td>100</td>\n",
       "    </tr>\n",
       "  </tbody>\n",
       "</table>\n",
       "</div>"
      ],
      "text/plain": [
       "    Frukter  Kalorier  Vekt (gram)\n",
       "0      Eple        52          182\n",
       "1     Banan        89          118\n",
       "2  Appelsin        47          131\n",
       "3     Druer        69          100"
      ]
     },
     "execution_count": 13,
     "metadata": {},
     "output_type": "execute_result"
    }
   ],
   "source": [
    "import pandas as pd\n",
    "\n",
    "# Opprettelse av en eksempel DataFrame med frukter\n",
    "data = {\n",
    "    'Frukter': ['Eple', 'Banan', 'Appelsin', 'Druer'],\n",
    "    'Kalorier': [52, 89, 47, 69],\n",
    "    'Vekt (gram)': [182, 118, 131, 100]\n",
    "}\n",
    "\n",
    "df = pd.DataFrame(data)\n",
    "df"
   ]
  },
  {
   "cell_type": "code",
   "execution_count": 14,
   "id": "9216ee51",
   "metadata": {},
   "outputs": [
    {
     "name": "stdout",
     "output_type": "stream",
     "text": [
      "Frukt: Eple, Kalorier: 52\n",
      "Frukt: Banan, Kalorier: 89\n",
      "Frukt: Appelsin, Kalorier: 47\n",
      "Frukt: Druer, Kalorier: 69\n"
     ]
    }
   ],
   "source": [
    "# Iterer over DataFrame med index og row\n",
    "for index, row in df.iterrows():\n",
    "    # Skriv ut fruktnavn og kalorier\n",
    "    print(f\"Frukt: {row['Frukter']}, Kalorier: {row['Kalorier']}\")"
   ]
  },
  {
   "cell_type": "code",
   "execution_count": 15,
   "id": "4fdc645a",
   "metadata": {},
   "outputs": [
    {
     "name": "stdout",
     "output_type": "stream",
     "text": [
      "Total inntekt nådd: 32600 er nådd etter 10 måneder.\n"
     ]
    }
   ],
   "source": [
    "monthly_income = [3000, 3200, 3500, 2800, 3000, 3100, 3300, 3400, 3600, 3700, 3500, 3400]\n",
    "total_income = 0\n",
    "index = 0\n",
    "\n",
    "while total_income < 30000 and index < len(monthly_income):\n",
    "    total_income += monthly_income[index]  # Legger til inntekten for den gjeldende måneden\n",
    "    index += 1                             # Går til neste måned\n",
    "\n",
    "print(f\"Total inntekt nådd: {total_income} er nådd etter {index} måneder.\")"
   ]
  },
  {
   "cell_type": "code",
   "execution_count": 16,
   "id": "37fdfcbf",
   "metadata": {},
   "outputs": [
    {
     "name": "stdout",
     "output_type": "stream",
     "text": [
      "Totalbeløp etter 10 år: 1628.89 kr\n"
     ]
    }
   ],
   "source": [
    "# Definerer variablene våre\n",
    "\n",
    "initial_investment = 1000          # Startbeløp\n",
    "annual_interest_rate = 0.05        # Årlig rente (5%)\n",
    "years = 0                          # Antall år\n",
    "total_amount = initial_investment  # Totalbeløp\n",
    "\n",
    "# Beregn totalbeløp over tid med rente\n",
    "while years < 10:  # Beregn i 10 år\n",
    "    total_amount += total_amount * annual_interest_rate  # Legg til rente\n",
    "    years += 1  # Øk årstallet\n",
    "\n",
    "print(f\"Totalbeløp etter {years} år: {total_amount:.2f} kr\")\n"
   ]
  },
  {
   "cell_type": "code",
   "execution_count": 17,
   "id": "9d55ebb6",
   "metadata": {},
   "outputs": [
    {
     "name": "stdout",
     "output_type": "stream",
     "text": [
      "Det tar 277 måneder å nedbetale lånet.\n"
     ]
    }
   ],
   "source": [
    "def calculate_months_to_pay_off_loan(loan_amount, annual_interest_rate, monthly_payment):\n",
    "    # Konverterer årlig rente til månedlig rente\n",
    "    monthly_interest_rate = annual_interest_rate / 12\n",
    "    months = 0  # Antall måneder\n",
    "\n",
    "    # Beregn nedbetalingstid vha while-løkke\n",
    "    while loan_amount > 0:\n",
    "        # Reduser lånebeløpet med rente og månedlig betaling\n",
    "        loan_amount += loan_amount * monthly_interest_rate - monthly_payment\n",
    "        months += 1  # Øk månedstallet\n",
    "\n",
    "    return months  # Returnerer antall måneder\n",
    "\n",
    "\n",
    "# Eksempel på bruk\n",
    "loan = 3000000           # Lånebeløp\n",
    "interest_rate = 0.054    # Årlig rente (6%)\n",
    "monthly_payment = 19000  # Månedlig betalingskapasitet\n",
    "\n",
    "months_needed = calculate_months_to_pay_off_loan(loan, interest_rate, monthly_payment)\n",
    "print(f\"Det tar {months_needed} måneder å nedbetale lånet.\")"
   ]
  },
  {
   "cell_type": "code",
   "execution_count": null,
   "id": "5644325c",
   "metadata": {},
   "outputs": [],
   "source": []
  },
  {
   "cell_type": "code",
   "execution_count": null,
   "id": "8c48cbd7",
   "metadata": {},
   "outputs": [],
   "source": []
  },
  {
   "cell_type": "code",
   "execution_count": null,
   "id": "4b7a58bc",
   "metadata": {},
   "outputs": [],
   "source": []
  },
  {
   "cell_type": "code",
   "execution_count": null,
   "id": "daa46ec7",
   "metadata": {},
   "outputs": [],
   "source": []
  },
  {
   "cell_type": "code",
   "execution_count": null,
   "id": "c8ff4c15",
   "metadata": {},
   "outputs": [],
   "source": []
  },
  {
   "cell_type": "code",
   "execution_count": null,
   "id": "22ab41a2",
   "metadata": {},
   "outputs": [],
   "source": []
  },
  {
   "cell_type": "code",
   "execution_count": null,
   "id": "73ba8f95",
   "metadata": {},
   "outputs": [],
   "source": []
  },
  {
   "cell_type": "code",
   "execution_count": null,
   "id": "6659b0b4",
   "metadata": {},
   "outputs": [],
   "source": []
  },
  {
   "cell_type": "code",
   "execution_count": null,
   "id": "cb31b067",
   "metadata": {},
   "outputs": [],
   "source": []
  }
 ],
 "metadata": {
  "kernelspec": {
   "display_name": "Python 3",
   "language": "python",
   "name": "python3"
  },
  "language_info": {
   "codemirror_mode": {
    "name": "ipython",
    "version": 3
   },
   "file_extension": ".py",
   "mimetype": "text/x-python",
   "name": "python",
   "nbconvert_exporter": "python",
   "pygments_lexer": "ipython3",
   "version": "3.11.2"
  }
 },
 "nbformat": 4,
 "nbformat_minor": 5
}