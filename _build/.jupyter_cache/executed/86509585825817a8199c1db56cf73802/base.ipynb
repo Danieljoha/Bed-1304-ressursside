{
 "cells": [
  {
   "cell_type": "code",
   "execution_count": 1,
   "metadata": {},
   "outputs": [
    {
     "name": "stdout",
     "output_type": "stream",
     "text": [
      "Navn: Anna, type: <class 'str'>\n",
      "Alder: 25, type: <class 'int'>\n",
      "Høyde: 1.68, type: <class 'float'>\n"
     ]
    }
   ],
   "source": [
    "# Definer variabler ut i fra oppgaveteksten\n",
    "navn = \"Anna\"\n",
    "alder = 25\n",
    "høyde = 1.68\n",
    "\n",
    "# Skriv ut verdiene og typene\n",
    "print(f\"Navn: {navn}, type: {type(navn)}\")\n",
    "print(f\"Alder: {alder}, type: {type(alder)}\")\n",
    "print(f\"Høyde: {høyde}, type: {type(høyde)}\")"
   ]
  },
  {
   "cell_type": "code",
   "execution_count": 2,
   "metadata": {},
   "outputs": [
    {
     "name": "stdout",
     "output_type": "stream",
     "text": [
      "Hei, jeg heter Lars, er 30 år gammel og 1.82 meter høy.\n"
     ]
    }
   ],
   "source": [
    "# Definer variabler\n",
    "navn = \"Lars\"\n",
    "alder = 30\n",
    "høyde = 1.82\n",
    "\n",
    "# Bruk f-string for å lage en setning\n",
    "setning = f\"Hei, jeg heter {navn}, er {alder} år gammel og {høyde} meter høy.\"\n",
    "print(setning)"
   ]
  },
  {
   "cell_type": "code",
   "execution_count": 3,
   "metadata": {},
   "outputs": [
    {
     "name": "stdout",
     "output_type": "stream",
     "text": [
      "Summen av 12 og 4 er 16\n",
      "Differansen mellom 12 og 4 er 8\n",
      "Produktet av 12 og 4 er 48\n",
      "12 delt på 4 er 3.0\n"
     ]
    }
   ],
   "source": [
    "# Definerer variablene x og y\n",
    "x = 12\n",
    "y = 4\n",
    "\n",
    "# Utfør beregninger\n",
    "print(f\"Summen av {x} og {y} er {x + y}\")\n",
    "print(f\"Differansen mellom {x} og {y} er {x - y}\")\n",
    "print(f\"Produktet av {x} og {y} er {x * y}\")\n",
    "print(f\"{x} delt på {y} er {x / y}\")"
   ]
  },
  {
   "cell_type": "code",
   "execution_count": 4,
   "metadata": {},
   "outputs": [
    {
     "name": "stdout",
     "output_type": "stream",
     "text": [
      "17 er et oddetall.\n"
     ]
    }
   ],
   "source": [
    "# Definer et tall - f.eks. 17 som vi vet er et oddetall\n",
    "tall = 17\n",
    "\n",
    "# Sjekk om tallet er partall eller oddetall\n",
    "if tall % 2 == 0:\n",
    "    print(f\"{tall} er et partall.\")\n",
    "else:\n",
    "    print(f\"{tall} er et oddetall.\")\n"
   ]
  },
  {
   "cell_type": "code",
   "execution_count": 5,
   "metadata": {},
   "outputs": [
    {
     "name": "stdout",
     "output_type": "stream",
     "text": [
      "42 som heltall + 10: 52, type: <class 'int'>\n",
      "42 som flyttall * 2.5: 105.0, type: <class 'float'>\n"
     ]
    }
   ],
   "source": [
    "# Definer en streng med tall\n",
    "x = \"42\"\n",
    "\n",
    "# Konverter til int og legg til 10\n",
    "x_int = int(x)\n",
    "print(f\"{x} som heltall + 10: {x_int + 10}, type: {type(x_int)}\")\n",
    "\n",
    "# Konverter til float og multipliser med 2.5\n",
    "x_float = float(x)\n",
    "print(f\"{x} som flyttall * 2.5: {x_float * 2.5}, type: {type(x_float)}\")"
   ]
  },
  {
   "cell_type": "code",
   "execution_count": 6,
   "metadata": {},
   "outputs": [
    {
     "name": "stdout",
     "output_type": "stream",
     "text": [
      "9 i andre potens er 81\n",
      "Kvadratroten av 9 er 3.0\n"
     ]
    }
   ],
   "source": [
    "# Definer et tall - her velger vi 9 som eksempel\n",
    "tall = 9\n",
    "\n",
    "# Beregn potens og kvadratrot\n",
    "kvadrat = tall ** 2\n",
    "kvadratrot = tall ** 0.5\n",
    "\n",
    "# Skriv ut resultatene\n",
    "print(f\"{tall} i andre potens er {kvadrat}\")\n",
    "print(f\"Kvadratroten av {tall} er {kvadratrot}\")"
   ]
  },
  {
   "cell_type": "code",
   "execution_count": 7,
   "metadata": {},
   "outputs": [
    {
     "name": "stdout",
     "output_type": "stream",
     "text": [
      "MVA utgjør: 200.0 kr\n",
      "Totalpris inkl. MVA: 1000.0 kr\n"
     ]
    }
   ],
   "source": [
    "# Definer pris og MVA-sats i henhold til oppgavebeskrivelsen\n",
    "pris_eks_mva = 800     # i norske kroner\n",
    "mva_sats = 0.25        # mva prosent\n",
    "\n",
    "# Beregn MVA og totalpris\n",
    "mva_beløp = pris_eks_mva * mva_sats\n",
    "totalpris = pris_eks_mva + mva_beløp\n",
    "\n",
    "# Skriv ut resultatene\n",
    "print(f\"MVA utgjør: {mva_beløp} kr\")\n",
    "print(f\"Totalpris inkl. MVA: {totalpris} kr\")"
   ]
  },
  {
   "cell_type": "code",
   "execution_count": 8,
   "metadata": {},
   "outputs": [
    {
     "name": "stdout",
     "output_type": "stream",
     "text": [
      "5000 NOK tilsvarer 434.78 EUR\n"
     ]
    }
   ],
   "source": [
    "# Definer beløp og valutakurs\n",
    "nok = 5000\n",
    "eur_kurs = 11.5\n",
    "\n",
    "# Konverter til euro\n",
    "eur = nok / eur_kurs\n",
    "\n",
    "# Skriv ut resultatet, og runder av svaret til å inneholde 2 desimaler\n",
    "print(f\"{nok} NOK tilsvarer {eur:.2f} EUR\")"
   ]
  },
  {
   "cell_type": "code",
   "execution_count": 9,
   "metadata": {},
   "outputs": [
    {
     "name": "stdout",
     "output_type": "stream",
     "text": [
      "Bruttolønn: 50000 kr\n",
      "Skatt: 17500.0 kr\n",
      "Nettolønn etter skatt: 32500.0 kr\n"
     ]
    }
   ],
   "source": [
    "# Definer lønn og skattesats i henhold til oppgaven\n",
    "brutto_lønn = 50000\n",
    "skatt_prosent = 35\n",
    "\n",
    "# Beregn skatt og nettolønn\n",
    "skatt = brutto_lønn * (skatt_prosent / 100)\n",
    "netto_lønn = brutto_lønn - skatt\n",
    "\n",
    "# Skriv ut resultatene\n",
    "print(f\"Bruttolønn: {brutto_lønn} kr\")\n",
    "print(f\"Skatt: {skatt} kr\")\n",
    "print(f\"Nettolønn etter skatt: {netto_lønn} kr\")"
   ]
  },
  {
   "cell_type": "code",
   "execution_count": 10,
   "metadata": {},
   "outputs": [
    {
     "name": "stdout",
     "output_type": "stream",
     "text": [
      "Saldo etter 1 år: 20600.00 kr\n"
     ]
    }
   ],
   "source": [
    "# Definer startbeløp og rente\n",
    "startbeløp = 20000\n",
    "rente_prosent = 3\n",
    "\n",
    "# Beregn saldo etter ett år\n",
    "saldo_etter_1_år = startbeløp * (1 + rente_prosent / 100)\n",
    "\n",
    "# Skriv ut resultatet\n",
    "print(f\"Saldo etter 1 år: {saldo_etter_1_år:.2f} kr\")"
   ]
  },
  {
   "cell_type": "code",
   "execution_count": 11,
   "metadata": {},
   "outputs": [
    {
     "name": "stdout",
     "output_type": "stream",
     "text": [
      "Gjeld etter 1 år: 265000.00 kr\n"
     ]
    }
   ],
   "source": [
    "# Definer lån, rente og årlig nedbetaling\n",
    "gjeld = 300000\n",
    "rente_prosent = 5\n",
    "årlig_nedbetaling = 50000\n",
    "\n",
    "# Beregn gjeld etter ett år\n",
    "gjeld_etter_rente = gjeld * (1 + rente_prosent / 100)       # Lånet vokser med renter\n",
    "gjeld_etter_1_år = gjeld_etter_rente - årlig_nedbetaling    # Trekk fra nedbetaling\n",
    "\n",
    "# Skriv ut resultatet\n",
    "print(f\"Gjeld etter 1 år: {gjeld_etter_1_år:.2f} kr\")"
   ]
  }
 ],
 "metadata": {
  "kernelspec": {
   "display_name": "Python (myenv)",
   "language": "python",
   "name": "python3"
  },
  "language_info": {
   "codemirror_mode": {
    "name": "ipython",
    "version": 3
   },
   "file_extension": ".py",
   "mimetype": "text/x-python",
   "name": "python",
   "nbconvert_exporter": "python",
   "pygments_lexer": "ipython3",
   "version": "3.11.2"
  }
 },
 "nbformat": 4,
 "nbformat_minor": 2
}